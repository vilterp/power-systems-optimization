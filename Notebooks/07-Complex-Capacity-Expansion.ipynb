{
 "cells": [
  {
   "cell_type": "markdown",
   "metadata": {},
   "source": [
    "# Complex Capacity Expansion\n",
    "\n",
    "_**[Power Systems Optimization](https://github.com/east-winds/power-systems-optimization)**_\n",
    "\n",
    "_by Jesse D. Jenkins and Michael R. Davison (last updated: November 6, 2023)_\n",
    "\n",
    "This notebook, the final in our series, combines elements of several prior models, including [Basic Capacity Expansion](03-Basic-Capacity-Expansion.ipynb), [Economic Dispatch](04-Economic-Dispatch.ipynb), and a [Network Flow](06-Optimal-Power-Flow.ipynb) model, to demonstrate a more complex capacity expansion planning model that includes chronologically sequential hourly economic dispatch decisions with time coupling constraints (ramp limits and energy storage) and transport flow constraints to represent power transmission limits between multiple geospatial regions.\n",
    "\n",
    "Note that detailed capacity expansion planning models can easily become large-scale constrainted optimization problems that push the limits of computational tractability. As such, these models commonly employ a range of abstraction methods along several dimensions, including temporal resolution, operational detail, and network/geospatial detail."
   ]
  },
  {
   "cell_type": "markdown",
   "metadata": {},
   "source": [
    "<img src=\"img/dimensionality.png\" style=\"width: 450px; height: auto\" align=\"left\">"
   ]
  },
  {
   "cell_type": "markdown",
   "metadata": {},
   "source": [
    "*Image source: [Jenkins & Sepulveda (2017)](https://energy.mit.edu/publication/enhanced-decision-support-changing-electricity-landscape/)*"
   ]
  },
  {
   "cell_type": "markdown",
   "metadata": {},
   "source": [
    "In this case, to keep this tutorial model relatively digestible and to keep the solution time rapid for use in an interactive notebook like this, the model presented here includes:\n",
    "\n",
    "- Economic dispatch with chronological ramp & storage constraints (no [unit commitment](05-Unit-Commitment.ipynb));\n",
    "- Linear network flow constraints between three aggregate model regions (no [DC OPF](06-Optimal-Power-Flow.ipynb)); and\n",
    "- Representative time periods (10 sample days selected via a clustering method adapted from Mallapragada et al. (2018), \"[Impact of model resolution on scenario outcomes for electricity sector system expansion](https://doi.org/10.1016/j.energy.2018.08.015\n",
    ")\" *Energy* 163)\n",
    "\n",
    "Additionally all capacity investment are continuous, rather than discrete, keeping this model a linear program (LP). \n",
    "\n",
    "In the `complex_expansion_data/` path, we provide several different sets of inputs using different sample time periods, for your use and experimentation, including 10 days (used as default below), 4 weeks, 8 weeks, 16 weeks, and 52 weeks (full 8760 hours). Alter the `inputs_path` parameter below to select a different time series if desired.\n",
    "\n",
    "All input data for this model are from the open source [PowerGenome](https://github.com/gschivley/PowerGenome) data platform.\n",
    "\n",
    "This 'core' model can be extended in several directions to produce a more complicated/realistic capacity expansion planning model, incorporating discrete generator and/or transmission expansion, unit commitment constraints for thermal generators, other resources (e.g. hydropower, flexible demand, and much more), DC optimal power flow constraints, and many other elements. \n",
    "\n",
    "For examples of fully-developed complex capacity expansion models, see:\n",
    "- GenX, described in Jenkins & Sepulveda (2017), \"[Enhanced Decision Support for a Changing Electricity Landscape: The GenX Configurable Electricity Resource Capacity Expansion Model](https://energy.mit.edu/publication/enhanced-decision-support-changing-electricity-landscape/),\" MIT Energy Initiative Working Paper 2017-10, and [available open source on Github here](https://github.com/GenXProject/GenX/) \n",
    "- PyPSA, described in Brown et al. (2018), \"[PyPSA: Python for Power System Analysis](https://doi.org/10.5334/jors.188),\" *Journal of Open Research Software* and available open source at https://pypsa.org/\n",
    "- SWITCH 2.0, described in Johnston et al. (2019), \"[Switch 2.0: A modern platform for planning high-renewable power systems](https://doi.org/10.1016/j.softx.2019.100251),\" *SoftwareX* 10 and available open source at http://switch-model.org/\n",
    "- GridPath available at https://www.gridpath.io/, with [documentation](https://gridpath.readthedocs.io/en/latest/) and [available open source at Github here](https://github.com/blue-marble/gridpath)\n",
    "\n",
    "We will dispense with a written mathematical formulation for this model, and proceed directly to the implementation in JuMP below."
   ]
  },
  {
   "cell_type": "markdown",
   "metadata": {},
   "source": [
    "## LOAD PACKAGES"
   ]
  },
  {
   "cell_type": "code",
   "execution_count": 66,
   "metadata": {},
   "outputs": [],
   "source": [
    "# Ensure these packages are installed; if not, use the Pkg package and Pkg.add() function to install\n",
    "using JuMP\n",
    "using HiGHS\n",
    "using Plots\n",
    "using DataFrames, CSV"
   ]
  },
  {
   "cell_type": "markdown",
   "metadata": {},
   "source": [
    "## LOAD INPUTS"
   ]
  },
  {
   "cell_type": "code",
   "execution_count": 67,
   "metadata": {},
   "outputs": [
    {
     "data": {
      "text/plain": [
       "55-element Vector{Int64}:\n",
       "  1\n",
       "  2\n",
       "  3\n",
       "  4\n",
       "  5\n",
       "  6\n",
       "  7\n",
       "  8\n",
       "  9\n",
       " 10\n",
       "  ⋮\n",
       " 47\n",
       " 48\n",
       " 49\n",
       " 50\n",
       " 51\n",
       " 52\n",
       " 53\n",
       " 54\n",
       " 55"
      ]
     },
     "metadata": {},
     "output_type": "display_data"
    }
   ],
   "source": [
    "# Read input data for a case with 10 sample days of data\n",
    "inputs_path = \"complex_expansion_data/10_days/\"\n",
    "  # Generators (and storage) data:\n",
    "generators = DataFrame(CSV.File(joinpath(inputs_path, \"Generators_data.csv\")))\n",
    "  # Many of the columns in the input data will be unused (this is input format for the GenX model)\n",
    "  # Select the ones we want for this model\n",
    "generators = select(generators, :R_ID, :Resource, :zone, :THERM, :DISP, :NDISP, :STOR, :HYDRO, :RPS, :CES,\n",
    "                    :Commit, :Existing_Cap_MW, :Existing_Cap_MWh, :Cap_size, :New_Build, :Max_Cap_MW,\n",
    "                    :Inv_cost_per_MWyr, :Fixed_OM_cost_per_MWyr, :Inv_cost_per_MWhyr, :Fixed_OM_cost_per_MWhyr,\n",
    "                    :Var_OM_cost_per_MWh, :Start_cost_per_MW, :Start_fuel_MMBTU_per_MW, :Heat_rate_MMBTU_per_MWh, :Fuel,\n",
    "                    :Min_power, :Ramp_Up_percentage, :Ramp_Dn_percentage, :Up_time, :Down_time,\n",
    "                    :Eff_up, :Eff_down);\n",
    "  # Set of all generators\n",
    "G = generators.R_ID;\n",
    "# Uncomment this line to explore the data if you wish:\n",
    "#show(generators, allrows=true, allcols=true)"
   ]
  },
  {
   "cell_type": "code",
   "execution_count": 68,
   "metadata": {},
   "outputs": [
    {
     "data": {
      "text/html": [
       "<div><div style = \"float: left;\"><span>240×3 DataFrame</span></div><div style = \"float: right;\"><span style = \"font-style: italic;\">215 rows omitted</span></div><div style = \"clear: both;\"></div></div><div class = \"data-frame\" style = \"overflow-x: scroll;\"><table class = \"data-frame\" style = \"margin-bottom: 6px;\"><thead><tr class = \"header\"><th class = \"rowNumber\" style = \"font-weight: bold; text-align: right;\">Row</th><th style = \"text-align: left;\">Load_MW_z1</th><th style = \"text-align: left;\">Load_MW_z2</th><th style = \"text-align: left;\">Load_MW_z3</th></tr><tr class = \"subheader headerLastRow\"><th class = \"rowNumber\" style = \"font-weight: bold; text-align: right;\"></th><th title = \"Float64\" style = \"text-align: left;\">Float64</th><th title = \"Float64\" style = \"text-align: left;\">Float64</th><th title = \"Float64\" style = \"text-align: left;\">Float64</th></tr></thead><tbody><tr><td class = \"rowNumber\" style = \"font-weight: bold; text-align: right;\">1</td><td style = \"text-align: right;\">0.0</td><td style = \"text-align: right;\">48533.0</td><td style = \"text-align: right;\">3326.0</td></tr><tr><td class = \"rowNumber\" style = \"font-weight: bold; text-align: right;\">2</td><td style = \"text-align: right;\">0.0</td><td style = \"text-align: right;\">47358.0</td><td style = \"text-align: right;\">3298.0</td></tr><tr><td class = \"rowNumber\" style = \"font-weight: bold; text-align: right;\">3</td><td style = \"text-align: right;\">0.0</td><td style = \"text-align: right;\">47219.0</td><td style = \"text-align: right;\">3311.0</td></tr><tr><td class = \"rowNumber\" style = \"font-weight: bold; text-align: right;\">4</td><td style = \"text-align: right;\">0.0</td><td style = \"text-align: right;\">47812.0</td><td style = \"text-align: right;\">3363.0</td></tr><tr><td class = \"rowNumber\" style = \"font-weight: bold; text-align: right;\">5</td><td style = \"text-align: right;\">0.0</td><td style = \"text-align: right;\">48069.0</td><td style = \"text-align: right;\">3377.0</td></tr><tr><td class = \"rowNumber\" style = \"font-weight: bold; text-align: right;\">6</td><td style = \"text-align: right;\">0.0</td><td style = \"text-align: right;\">51247.0</td><td style = \"text-align: right;\">3531.0</td></tr><tr><td class = \"rowNumber\" style = \"font-weight: bold; text-align: right;\">7</td><td style = \"text-align: right;\">0.0</td><td style = \"text-align: right;\">55670.0</td><td style = \"text-align: right;\">3745.0</td></tr><tr><td class = \"rowNumber\" style = \"font-weight: bold; text-align: right;\">8</td><td style = \"text-align: right;\">0.0</td><td style = \"text-align: right;\">60008.0</td><td style = \"text-align: right;\">3926.0</td></tr><tr><td class = \"rowNumber\" style = \"font-weight: bold; text-align: right;\">9</td><td style = \"text-align: right;\">0.0</td><td style = \"text-align: right;\">63731.0</td><td style = \"text-align: right;\">4120.0</td></tr><tr><td class = \"rowNumber\" style = \"font-weight: bold; text-align: right;\">10</td><td style = \"text-align: right;\">0.0</td><td style = \"text-align: right;\">66749.0</td><td style = \"text-align: right;\">4300.0</td></tr><tr><td class = \"rowNumber\" style = \"font-weight: bold; text-align: right;\">11</td><td style = \"text-align: right;\">0.0</td><td style = \"text-align: right;\">68622.0</td><td style = \"text-align: right;\">4460.0</td></tr><tr><td class = \"rowNumber\" style = \"font-weight: bold; text-align: right;\">12</td><td style = \"text-align: right;\">0.0</td><td style = \"text-align: right;\">68573.0</td><td style = \"text-align: right;\">4586.0</td></tr><tr><td class = \"rowNumber\" style = \"font-weight: bold; text-align: right;\">13</td><td style = \"text-align: right;\">0.0</td><td style = \"text-align: right;\">67421.0</td><td style = \"text-align: right;\">4668.0</td></tr><tr><td style = \"text-align: right;\">&vellip;</td><td style = \"text-align: right;\">&vellip;</td><td style = \"text-align: right;\">&vellip;</td><td style = \"text-align: right;\">&vellip;</td></tr><tr><td class = \"rowNumber\" style = \"font-weight: bold; text-align: right;\">229</td><td style = \"text-align: right;\">0.0</td><td style = \"text-align: right;\">88057.0</td><td style = \"text-align: right;\">5428.0</td></tr><tr><td class = \"rowNumber\" style = \"font-weight: bold; text-align: right;\">230</td><td style = \"text-align: right;\">0.0</td><td style = \"text-align: right;\">88086.0</td><td style = \"text-align: right;\">5497.0</td></tr><tr><td class = \"rowNumber\" style = \"font-weight: bold; text-align: right;\">231</td><td style = \"text-align: right;\">0.0</td><td style = \"text-align: right;\">87685.0</td><td style = \"text-align: right;\">5447.0</td></tr><tr><td class = \"rowNumber\" style = \"font-weight: bold; text-align: right;\">232</td><td style = \"text-align: right;\">0.0</td><td style = \"text-align: right;\">86248.0</td><td style = \"text-align: right;\">5357.0</td></tr><tr><td class = \"rowNumber\" style = \"font-weight: bold; text-align: right;\">233</td><td style = \"text-align: right;\">0.0</td><td style = \"text-align: right;\">83180.0</td><td style = \"text-align: right;\">5246.0</td></tr><tr><td class = \"rowNumber\" style = \"font-weight: bold; text-align: right;\">234</td><td style = \"text-align: right;\">0.0</td><td style = \"text-align: right;\">80567.0</td><td style = \"text-align: right;\">5064.0</td></tr><tr><td class = \"rowNumber\" style = \"font-weight: bold; text-align: right;\">235</td><td style = \"text-align: right;\">0.0</td><td style = \"text-align: right;\">77898.0</td><td style = \"text-align: right;\">4920.0</td></tr><tr><td class = \"rowNumber\" style = \"font-weight: bold; text-align: right;\">236</td><td style = \"text-align: right;\">0.0</td><td style = \"text-align: right;\">72185.0</td><td style = \"text-align: right;\">4627.0</td></tr><tr><td class = \"rowNumber\" style = \"font-weight: bold; text-align: right;\">237</td><td style = \"text-align: right;\">0.0</td><td style = \"text-align: right;\">65807.0</td><td style = \"text-align: right;\">4276.0</td></tr><tr><td class = \"rowNumber\" style = \"font-weight: bold; text-align: right;\">238</td><td style = \"text-align: right;\">0.0</td><td style = \"text-align: right;\">60284.0</td><td style = \"text-align: right;\">3990.0</td></tr><tr><td class = \"rowNumber\" style = \"font-weight: bold; text-align: right;\">239</td><td style = \"text-align: right;\">0.0</td><td style = \"text-align: right;\">56387.0</td><td style = \"text-align: right;\">3792.0</td></tr><tr><td class = \"rowNumber\" style = \"font-weight: bold; text-align: right;\">240</td><td style = \"text-align: right;\">0.0</td><td style = \"text-align: right;\">53384.0</td><td style = \"text-align: right;\">3641.0</td></tr></tbody></table></div>"
      ],
      "text/latex": [
       "\\begin{tabular}{r|ccc}\n",
       "\t& Load\\_MW\\_z1 & Load\\_MW\\_z2 & Load\\_MW\\_z3\\\\\n",
       "\t\\hline\n",
       "\t& Float64 & Float64 & Float64\\\\\n",
       "\t\\hline\n",
       "\t1 & 0.0 & 48533.0 & 3326.0 \\\\\n",
       "\t2 & 0.0 & 47358.0 & 3298.0 \\\\\n",
       "\t3 & 0.0 & 47219.0 & 3311.0 \\\\\n",
       "\t4 & 0.0 & 47812.0 & 3363.0 \\\\\n",
       "\t5 & 0.0 & 48069.0 & 3377.0 \\\\\n",
       "\t6 & 0.0 & 51247.0 & 3531.0 \\\\\n",
       "\t7 & 0.0 & 55670.0 & 3745.0 \\\\\n",
       "\t8 & 0.0 & 60008.0 & 3926.0 \\\\\n",
       "\t9 & 0.0 & 63731.0 & 4120.0 \\\\\n",
       "\t10 & 0.0 & 66749.0 & 4300.0 \\\\\n",
       "\t11 & 0.0 & 68622.0 & 4460.0 \\\\\n",
       "\t12 & 0.0 & 68573.0 & 4586.0 \\\\\n",
       "\t13 & 0.0 & 67421.0 & 4668.0 \\\\\n",
       "\t14 & 0.0 & 65777.0 & 4687.0 \\\\\n",
       "\t15 & 0.0 & 64150.0 & 4622.0 \\\\\n",
       "\t16 & 0.0 & 61630.0 & 4557.0 \\\\\n",
       "\t17 & 0.0 & 59297.0 & 4436.0 \\\\\n",
       "\t18 & 0.0 & 58372.0 & 4332.0 \\\\\n",
       "\t19 & 0.0 & 56714.0 & 4240.0 \\\\\n",
       "\t20 & 0.0 & 53526.0 & 4045.0 \\\\\n",
       "\t21 & 0.0 & 49918.0 & 3843.0 \\\\\n",
       "\t22 & 0.0 & 46651.0 & 3671.0 \\\\\n",
       "\t23 & 0.0 & 44257.0 & 3528.0 \\\\\n",
       "\t24 & 0.0 & 42380.0 & 3426.0 \\\\\n",
       "\t$\\dots$ & $\\dots$ & $\\dots$ & $\\dots$ \\\\\n",
       "\\end{tabular}\n"
      ],
      "text/plain": [
       "\u001b[1m240×3 DataFrame\u001b[0m\n",
       "\u001b[1m Row \u001b[0m│\u001b[1m Load_MW_z1 \u001b[0m\u001b[1m Load_MW_z2 \u001b[0m\u001b[1m Load_MW_z3 \u001b[0m\n",
       "     │\u001b[90m Float64    \u001b[0m\u001b[90m Float64    \u001b[0m\u001b[90m Float64    \u001b[0m\n",
       "─────┼────────────────────────────────────\n",
       "   1 │        0.0     48533.0      3326.0\n",
       "   2 │        0.0     47358.0      3298.0\n",
       "   3 │        0.0     47219.0      3311.0\n",
       "   4 │        0.0     47812.0      3363.0\n",
       "   5 │        0.0     48069.0      3377.0\n",
       "   6 │        0.0     51247.0      3531.0\n",
       "   7 │        0.0     55670.0      3745.0\n",
       "   8 │        0.0     60008.0      3926.0\n",
       "  ⋮  │     ⋮           ⋮           ⋮\n",
       " 234 │        0.0     80567.0      5064.0\n",
       " 235 │        0.0     77898.0      4920.0\n",
       " 236 │        0.0     72185.0      4627.0\n",
       " 237 │        0.0     65807.0      4276.0\n",
       " 238 │        0.0     60284.0      3990.0\n",
       " 239 │        0.0     56387.0      3792.0\n",
       " 240 │        0.0     53384.0      3641.0\n",
       "\u001b[36m                          225 rows omitted\u001b[0m"
      ]
     },
     "metadata": {},
     "output_type": "display_data"
    }
   ],
   "source": [
    "  # Read demand input data and record parameters\n",
    "demand_inputs = DataFrame(CSV.File(joinpath(inputs_path, \"Load_data.csv\")))\n",
    "# Value of lost load (cost of involuntary non-served energy)\n",
    "VOLL = demand_inputs.Voll[1]\n",
    "  # Set of price responsive demand (non-served energy) segments\n",
    "S = convert(Array{Int64}, collect(skipmissing(demand_inputs.Demand_segment))) \n",
    "#NOTE:  collect(skipmising(input)) is needed here in several spots because the demand inputs are not 'square' (different column lengths)\n",
    "\n",
    "  # Data frame for price responsive demand segments (nse)\n",
    "  # NSE_Cost = opportunity cost per MWh of demand curtailment\n",
    "  # NSE_Max = maximum % of demand that can be curtailed in each hour\n",
    "  # Note that nse segment 1 = involuntary non-served energy (load shedding) at $9000/MWh\n",
    "  # and segment 2 = one segment of voluntary price responsive demand at $600/MWh (up to 7.5% of demand)\n",
    "nse = DataFrame(Segment=S, \n",
    "                NSE_Cost = VOLL.*collect(skipmissing(demand_inputs.Cost_of_demand_curtailment_perMW)),\n",
    "                NSE_Max = collect(skipmissing(demand_inputs.Max_demand_curtailment)))\n",
    "\n",
    "  # Set of sequential hours per sub-period\n",
    "hours_per_period = convert(Int64, demand_inputs.Hours_per_period[1])\n",
    "  # Set of time sample sub-periods (e.g. sample days or weeks)\n",
    "P = convert(Array{Int64}, 1:demand_inputs.Subperiods[1])\n",
    "  # Sub period cluster weights = number of hours represented by each sample period\n",
    "W = convert(Array{Int64}, collect(skipmissing(demand_inputs.Sub_Weights)))\n",
    "  # Set of all time steps\n",
    "T = convert(Array{Int64}, demand_inputs.Time_index)\n",
    "  # Create vector of sample weights, representing how many hours in the year\n",
    "  # each hour in each sample period represents\n",
    "sample_weight = zeros(Float64, size(T,1))\n",
    "t=1\n",
    "for p in P\n",
    "    for h in 1:hours_per_period\n",
    "        sample_weight[t] = W[p]/hours_per_period\n",
    "        t=t+1\n",
    "    end\n",
    "end\n",
    "\n",
    "  # Set of zones \n",
    "Z = convert(Array{Int64}, 1:3)\n",
    "# Notes on zones: \n",
    "# Zone 1 is the Texas Panhandle, home to good wind resource but no local demand (not part of ERCOT)\n",
    "# Zone 2 is eastern half of ERCOT, home to majority of Texas population and major cities like Houston, Dallas-Forth Worth, Austin, and San Antonio\n",
    "# Zone 3 is western half of ERCOT, less populated, but great wind and solar resources\n",
    "\n",
    "  # Load/demand time series by zone (TxZ array)\n",
    "demand = select(demand_inputs, :Load_MW_z1, :Load_MW_z2, :Load_MW_z3);\n",
    "# Uncomment this line to explore the data if you wish:\n",
    "# show(demand, allrows=true, allcols=true)"
   ]
  },
  {
   "cell_type": "code",
   "execution_count": 69,
   "metadata": {},
   "outputs": [
    {
     "data": {
      "text/html": [
       "<div><div style = \"float: left;\"><span>240×55 DataFrame</span></div><div style = \"float: right;\"><span style = \"font-style: italic;\">215 rows omitted</span></div><div style = \"clear: both;\"></div></div><div class = \"data-frame\" style = \"overflow-x: scroll;\"><table class = \"data-frame\" style = \"margin-bottom: 6px;\"><thead><tr class = \"header\"><th class = \"rowNumber\" style = \"font-weight: bold; text-align: right;\">Row</th><th style = \"text-align: left;\">onshore_wind_turbine_1</th><th style = \"text-align: left;\">biomass_2</th><th style = \"text-align: left;\">conventional_hydroelectric_3</th><th style = \"text-align: left;\">conventional_steam_coal_4</th><th style = \"text-align: left;\">natural_gas_fired_combined_cycle_5</th><th style = \"text-align: left;\">natural_gas_fired_combustion_turbine_6</th><th style = \"text-align: left;\">natural_gas_steam_turbine_7</th><th style = \"text-align: left;\">nuclear_8</th><th style = \"text-align: left;\">onshore_wind_turbine_9</th><th style = \"text-align: left;\">small_hydroelectric_10</th><th style = \"text-align: left;\">solar_photovoltaic_11</th><th style = \"text-align: left;\">conventional_steam_coal_12</th><th style = \"text-align: left;\">natural_gas_fired_combined_cycle_13</th><th style = \"text-align: left;\">natural_gas_fired_combustion_turbine_14</th><th style = \"text-align: left;\">onshore_wind_turbine_15</th><th style = \"text-align: left;\">solar_photovoltaic_16</th><th style = \"text-align: left;\">naturalgas_ccccsavgcf_17</th><th style = \"text-align: left;\">naturalgas_ccavgcf_18</th><th style = \"text-align: left;\">naturalgas_ctavgcf_19</th><th style = \"text-align: left;\">landbasedwind_ltrg1_20</th><th style = \"text-align: left;\">landbasedwind_ltrg1_21</th><th style = \"text-align: left;\">landbasedwind_ltrg1_22</th><th style = \"text-align: left;\">utilitypv_losangeles_23</th><th style = \"text-align: left;\">utilitypv_losangeles_24</th><th style = \"text-align: left;\">utilitypv_losangeles_25</th><th style = \"text-align: left;\">utilitypv_losangeles_26</th><th style = \"text-align: left;\">battery_27</th><th style = \"text-align: left;\">naturalgas_ccs100_28</th><th style = \"text-align: left;\">naturalgas_ccccsavgcf_29</th><th style = \"text-align: left;\">naturalgas_ccavgcf_30</th><th style = \"text-align: left;\">naturalgas_ctavgcf_31</th><th style = \"text-align: left;\">landbasedwind_ltrg1_32</th><th style = \"text-align: left;\">landbasedwind_ltrg1_33</th><th style = \"text-align: left;\">landbasedwind_ltrg1_34</th><th style = \"text-align: left;\">offshorewind_otrg3_35</th><th style = \"text-align: left;\">offshorewind_otrg3_36</th><th style = \"text-align: left;\">offshorewind_otrg3_37</th><th style = \"text-align: left;\">utilitypv_losangeles_38</th><th style = \"text-align: left;\">utilitypv_losangeles_39</th><th style = \"text-align: left;\">battery_40</th><th style = \"text-align: left;\">naturalgas_ccs100_41</th><th style = \"text-align: left;\">naturalgas_ccccsavgcf_42</th><th style = \"text-align: left;\">naturalgas_ccavgcf_43</th><th style = \"text-align: left;\">naturalgas_ctavgcf_44</th><th style = \"text-align: left;\">landbasedwind_ltrg1_45</th><th style = \"text-align: left;\">landbasedwind_ltrg1_46</th><th style = \"text-align: left;\">landbasedwind_ltrg1_47</th><th style = \"text-align: left;\">landbasedwind_ltrg1_48</th><th style = \"text-align: left;\">landbasedwind_ltrg1_49</th><th style = \"text-align: left;\">landbasedwind_ltrg1_50</th><th style = \"text-align: left;\">landbasedwind_ltrg1_51</th><th style = \"text-align: left;\">utilitypv_losangeles_52</th><th style = \"text-align: left;\">utilitypv_losangeles_53</th><th style = \"text-align: left;\">battery_54</th><th style = \"text-align: left;\">naturalgas_ccs100_55</th></tr><tr class = \"subheader headerLastRow\"><th class = \"rowNumber\" style = \"font-weight: bold; text-align: right;\"></th><th title = \"Float64\" style = \"text-align: left;\">Float64</th><th title = \"Int64\" style = \"text-align: left;\">Int64</th><th title = \"Float64\" style = \"text-align: left;\">Float64</th><th title = \"Int64\" style = \"text-align: left;\">Int64</th><th title = \"Int64\" style = \"text-align: left;\">Int64</th><th title = \"Int64\" style = \"text-align: left;\">Int64</th><th title = \"Int64\" style = \"text-align: left;\">Int64</th><th title = \"Int64\" style = \"text-align: left;\">Int64</th><th title = \"Float64\" style = \"text-align: left;\">Float64</th><th title = \"Int64\" style = \"text-align: left;\">Int64</th><th title = \"Float64\" style = \"text-align: left;\">Float64</th><th title = \"Int64\" style = \"text-align: left;\">Int64</th><th title = \"Int64\" style = \"text-align: left;\">Int64</th><th title = \"Int64\" style = \"text-align: left;\">Int64</th><th title = \"Float64\" style = \"text-align: left;\">Float64</th><th title = \"Float64\" style = \"text-align: left;\">Float64</th><th title = \"Int64\" style = \"text-align: left;\">Int64</th><th title = \"Int64\" style = \"text-align: left;\">Int64</th><th title = \"Int64\" style = \"text-align: left;\">Int64</th><th title = \"Float64\" style = \"text-align: left;\">Float64</th><th title = \"Float64\" style = \"text-align: left;\">Float64</th><th title = \"Float64\" style = \"text-align: left;\">Float64</th><th title = \"Float64\" style = \"text-align: left;\">Float64</th><th title = \"Float64\" style = \"text-align: left;\">Float64</th><th title = \"Float64\" style = \"text-align: left;\">Float64</th><th title = \"Float64\" style = \"text-align: left;\">Float64</th><th title = \"Int64\" style = \"text-align: left;\">Int64</th><th title = \"Int64\" style = \"text-align: left;\">Int64</th><th title = \"Int64\" style = \"text-align: left;\">Int64</th><th title = \"Int64\" style = \"text-align: left;\">Int64</th><th title = \"Int64\" style = \"text-align: left;\">Int64</th><th title = \"Float64\" style = \"text-align: left;\">Float64</th><th title = \"Float64\" style = \"text-align: left;\">Float64</th><th title = \"Float64\" style = \"text-align: left;\">Float64</th><th title = \"Float64\" style = \"text-align: left;\">Float64</th><th title = \"Float64\" style = \"text-align: left;\">Float64</th><th title = \"Float64\" style = \"text-align: left;\">Float64</th><th title = \"Float64\" style = \"text-align: left;\">Float64</th><th title = \"Float64\" style = \"text-align: left;\">Float64</th><th title = \"Int64\" style = \"text-align: left;\">Int64</th><th title = \"Int64\" style = \"text-align: left;\">Int64</th><th title = \"Int64\" style = \"text-align: left;\">Int64</th><th title = \"Int64\" style = \"text-align: left;\">Int64</th><th title = \"Int64\" style = \"text-align: left;\">Int64</th><th title = \"Float64\" style = \"text-align: left;\">Float64</th><th title = \"Float64\" style = \"text-align: left;\">Float64</th><th title = \"Float64\" style = \"text-align: left;\">Float64</th><th title = \"Float64\" style = \"text-align: left;\">Float64</th><th title = \"Float64\" style = \"text-align: left;\">Float64</th><th title = \"Float64\" style = \"text-align: left;\">Float64</th><th title = \"Float64\" style = \"text-align: left;\">Float64</th><th title = \"Float64\" style = \"text-align: left;\">Float64</th><th title = \"Float64\" style = \"text-align: left;\">Float64</th><th title = \"Int64\" style = \"text-align: left;\">Int64</th><th title = \"Int64\" style = \"text-align: left;\">Int64</th></tr></thead><tbody><tr><td class = \"rowNumber\" style = \"font-weight: bold; text-align: right;\">1</td><td style = \"text-align: right;\">0.1844</td><td style = \"text-align: right;\">1</td><td style = \"text-align: right;\">0.0668263</td><td style = \"text-align: right;\">1</td><td style = \"text-align: right;\">1</td><td style = \"text-align: right;\">1</td><td style = \"text-align: right;\">1</td><td style = \"text-align: right;\">1</td><td style = \"text-align: right;\">0.1041</td><td style = \"text-align: right;\">1</td><td style = \"text-align: right;\">0.0</td><td style = \"text-align: right;\">1</td><td style = \"text-align: right;\">1</td><td style = \"text-align: right;\">1</td><td style = \"text-align: right;\">0.1451</td><td style = \"text-align: right;\">0.0</td><td style = \"text-align: right;\">1</td><td style = \"text-align: right;\">1</td><td style = \"text-align: right;\">1</td><td style = \"text-align: right;\">0.2735</td><td style = \"text-align: right;\">0.2138</td><td style = \"text-align: right;\">0.2207</td><td style = \"text-align: right;\">0.0</td><td style = \"text-align: right;\">0.0</td><td style = \"text-align: right;\">0.0</td><td style = \"text-align: right;\">0.0</td><td style = \"text-align: right;\">1</td><td style = \"text-align: right;\">1</td><td style = \"text-align: right;\">1</td><td style = \"text-align: right;\">1</td><td style = \"text-align: right;\">1</td><td style = \"text-align: right;\">0.2848</td><td style = \"text-align: right;\">0.2469</td><td style = \"text-align: right;\">0.0337</td><td style = \"text-align: right;\">0.2203</td><td style = \"text-align: right;\">0.2502</td><td style = \"text-align: right;\">0.2446</td><td style = \"text-align: right;\">0.0</td><td style = \"text-align: right;\">0.0</td><td style = \"text-align: right;\">1</td><td style = \"text-align: right;\">1</td><td style = \"text-align: right;\">1</td><td style = \"text-align: right;\">1</td><td style = \"text-align: right;\">1</td><td style = \"text-align: right;\">0.2898</td><td style = \"text-align: right;\">0.3769</td><td style = \"text-align: right;\">0.3546</td><td style = \"text-align: right;\">0.2133</td><td style = \"text-align: right;\">0.1714</td><td style = \"text-align: right;\">0.3065</td><td style = \"text-align: right;\">0.0791</td><td style = \"text-align: right;\">0.0</td><td style = \"text-align: right;\">0.0</td><td style = \"text-align: right;\">1</td><td style = \"text-align: right;\">1</td></tr><tr><td class = \"rowNumber\" style = \"font-weight: bold; text-align: right;\">2</td><td style = \"text-align: right;\">0.1263</td><td style = \"text-align: right;\">1</td><td style = \"text-align: right;\">0.0667889</td><td style = \"text-align: right;\">1</td><td style = \"text-align: right;\">1</td><td style = \"text-align: right;\">1</td><td style = \"text-align: right;\">1</td><td style = \"text-align: right;\">1</td><td style = \"text-align: right;\">0.0902</td><td style = \"text-align: right;\">1</td><td style = \"text-align: right;\">0.0</td><td style = \"text-align: right;\">1</td><td style = \"text-align: right;\">1</td><td style = \"text-align: right;\">1</td><td style = \"text-align: right;\">0.1546</td><td style = \"text-align: right;\">0.0</td><td style = \"text-align: right;\">1</td><td style = \"text-align: right;\">1</td><td style = \"text-align: right;\">1</td><td style = \"text-align: right;\">0.1881</td><td style = \"text-align: right;\">0.1404</td><td style = \"text-align: right;\">0.1934</td><td style = \"text-align: right;\">0.0</td><td style = \"text-align: right;\">0.0</td><td style = \"text-align: right;\">0.0</td><td style = \"text-align: right;\">0.0</td><td style = \"text-align: right;\">1</td><td style = \"text-align: right;\">1</td><td style = \"text-align: right;\">1</td><td style = \"text-align: right;\">1</td><td style = \"text-align: right;\">1</td><td style = \"text-align: right;\">0.1883</td><td style = \"text-align: right;\">0.1803</td><td style = \"text-align: right;\">0.2404</td><td style = \"text-align: right;\">0.2007</td><td style = \"text-align: right;\">0.2344</td><td style = \"text-align: right;\">0.2317</td><td style = \"text-align: right;\">0.0</td><td style = \"text-align: right;\">0.0</td><td style = \"text-align: right;\">1</td><td style = \"text-align: right;\">1</td><td style = \"text-align: right;\">1</td><td style = \"text-align: right;\">1</td><td style = \"text-align: right;\">1</td><td style = \"text-align: right;\">0.1517</td><td style = \"text-align: right;\">0.3579</td><td style = \"text-align: right;\">0.1647</td><td style = \"text-align: right;\">0.1337</td><td style = \"text-align: right;\">0.1089</td><td style = \"text-align: right;\">0.155</td><td style = \"text-align: right;\">0.0867</td><td style = \"text-align: right;\">0.0</td><td style = \"text-align: right;\">0.0</td><td style = \"text-align: right;\">1</td><td style = \"text-align: right;\">1</td></tr><tr><td class = \"rowNumber\" style = \"font-weight: bold; text-align: right;\">3</td><td style = \"text-align: right;\">0.0817</td><td style = \"text-align: right;\">1</td><td style = \"text-align: right;\">0.0667516</td><td style = \"text-align: right;\">1</td><td style = \"text-align: right;\">1</td><td style = \"text-align: right;\">1</td><td style = \"text-align: right;\">1</td><td style = \"text-align: right;\">1</td><td style = \"text-align: right;\">0.0729</td><td style = \"text-align: right;\">1</td><td style = \"text-align: right;\">0.0</td><td style = \"text-align: right;\">1</td><td style = \"text-align: right;\">1</td><td style = \"text-align: right;\">1</td><td style = \"text-align: right;\">0.1998</td><td style = \"text-align: right;\">0.0</td><td style = \"text-align: right;\">1</td><td style = \"text-align: right;\">1</td><td style = \"text-align: right;\">1</td><td style = \"text-align: right;\">0.1468</td><td style = \"text-align: right;\">0.0993</td><td style = \"text-align: right;\">0.149</td><td style = \"text-align: right;\">0.0</td><td style = \"text-align: right;\">0.0</td><td style = \"text-align: right;\">0.0</td><td style = \"text-align: right;\">0.0</td><td style = \"text-align: right;\">1</td><td style = \"text-align: right;\">1</td><td style = \"text-align: right;\">1</td><td style = \"text-align: right;\">1</td><td style = \"text-align: right;\">1</td><td style = \"text-align: right;\">0.1669</td><td style = \"text-align: right;\">0.153</td><td style = \"text-align: right;\">0.2585</td><td style = \"text-align: right;\">0.1571</td><td style = \"text-align: right;\">0.1682</td><td style = \"text-align: right;\">0.1659</td><td style = \"text-align: right;\">0.0</td><td style = \"text-align: right;\">0.0</td><td style = \"text-align: right;\">1</td><td style = \"text-align: right;\">1</td><td style = \"text-align: right;\">1</td><td style = \"text-align: right;\">1</td><td style = \"text-align: right;\">1</td><td style = \"text-align: right;\">0.1421</td><td style = \"text-align: right;\">0.391</td><td style = \"text-align: right;\">0.1362</td><td style = \"text-align: right;\">0.1254</td><td style = \"text-align: right;\">0.1228</td><td style = \"text-align: right;\">0.1406</td><td style = \"text-align: right;\">0.1837</td><td style = \"text-align: right;\">0.0</td><td style = \"text-align: right;\">0.0</td><td style = \"text-align: right;\">1</td><td style = \"text-align: right;\">1</td></tr><tr><td class = \"rowNumber\" style = \"font-weight: bold; text-align: right;\">4</td><td style = \"text-align: right;\">0.0494</td><td style = \"text-align: right;\">1</td><td style = \"text-align: right;\">0.0667143</td><td style = \"text-align: right;\">1</td><td style = \"text-align: right;\">1</td><td style = \"text-align: right;\">1</td><td style = \"text-align: right;\">1</td><td style = \"text-align: right;\">1</td><td style = \"text-align: right;\">0.0659</td><td style = \"text-align: right;\">1</td><td style = \"text-align: right;\">0.0</td><td style = \"text-align: right;\">1</td><td style = \"text-align: right;\">1</td><td style = \"text-align: right;\">1</td><td style = \"text-align: right;\">0.1591</td><td style = \"text-align: right;\">0.0</td><td style = \"text-align: right;\">1</td><td style = \"text-align: right;\">1</td><td style = \"text-align: right;\">1</td><td style = \"text-align: right;\">0.0841</td><td style = \"text-align: right;\">0.0671</td><td style = \"text-align: right;\">0.0945</td><td style = \"text-align: right;\">0.0</td><td style = \"text-align: right;\">0.0</td><td style = \"text-align: right;\">0.0</td><td style = \"text-align: right;\">0.0</td><td style = \"text-align: right;\">1</td><td style = \"text-align: right;\">1</td><td style = \"text-align: right;\">1</td><td style = \"text-align: right;\">1</td><td style = \"text-align: right;\">1</td><td style = \"text-align: right;\">0.1599</td><td style = \"text-align: right;\">0.1407</td><td style = \"text-align: right;\">0.1597</td><td style = \"text-align: right;\">0.1244</td><td style = \"text-align: right;\">0.1311</td><td style = \"text-align: right;\">0.1268</td><td style = \"text-align: right;\">0.0</td><td style = \"text-align: right;\">0.0</td><td style = \"text-align: right;\">1</td><td style = \"text-align: right;\">1</td><td style = \"text-align: right;\">1</td><td style = \"text-align: right;\">1</td><td style = \"text-align: right;\">1</td><td style = \"text-align: right;\">0.1278</td><td style = \"text-align: right;\">0.2682</td><td style = \"text-align: right;\">0.1337</td><td style = \"text-align: right;\">0.1267</td><td style = \"text-align: right;\">0.0963</td><td style = \"text-align: right;\">0.1293</td><td style = \"text-align: right;\">0.1416</td><td style = \"text-align: right;\">0.0</td><td style = \"text-align: right;\">0.0</td><td style = \"text-align: right;\">1</td><td style = \"text-align: right;\">1</td></tr><tr><td class = \"rowNumber\" style = \"font-weight: bold; text-align: right;\">5</td><td style = \"text-align: right;\">0.0344</td><td style = \"text-align: right;\">1</td><td style = \"text-align: right;\">0.066677</td><td style = \"text-align: right;\">1</td><td style = \"text-align: right;\">1</td><td style = \"text-align: right;\">1</td><td style = \"text-align: right;\">1</td><td style = \"text-align: right;\">1</td><td style = \"text-align: right;\">0.1013</td><td style = \"text-align: right;\">1</td><td style = \"text-align: right;\">0.0</td><td style = \"text-align: right;\">1</td><td style = \"text-align: right;\">1</td><td style = \"text-align: right;\">1</td><td style = \"text-align: right;\">0.1746</td><td style = \"text-align: right;\">0.0</td><td style = \"text-align: right;\">1</td><td style = \"text-align: right;\">1</td><td style = \"text-align: right;\">1</td><td style = \"text-align: right;\">0.047</td><td style = \"text-align: right;\">0.0416</td><td style = \"text-align: right;\">0.0713</td><td style = \"text-align: right;\">0.0</td><td style = \"text-align: right;\">0.0</td><td style = \"text-align: right;\">0.0</td><td style = \"text-align: right;\">0.0</td><td style = \"text-align: right;\">1</td><td style = \"text-align: right;\">1</td><td style = \"text-align: right;\">1</td><td style = \"text-align: right;\">1</td><td style = \"text-align: right;\">1</td><td style = \"text-align: right;\">0.2455</td><td style = \"text-align: right;\">0.2022</td><td style = \"text-align: right;\">0.149</td><td style = \"text-align: right;\">0.1299</td><td style = \"text-align: right;\">0.1307</td><td style = \"text-align: right;\">0.1198</td><td style = \"text-align: right;\">0.0</td><td style = \"text-align: right;\">0.0</td><td style = \"text-align: right;\">1</td><td style = \"text-align: right;\">1</td><td style = \"text-align: right;\">1</td><td style = \"text-align: right;\">1</td><td style = \"text-align: right;\">1</td><td style = \"text-align: right;\">0.205</td><td style = \"text-align: right;\">0.1948</td><td style = \"text-align: right;\">0.2365</td><td style = \"text-align: right;\">0.1596</td><td style = \"text-align: right;\">0.1229</td><td style = \"text-align: right;\">0.2131</td><td style = \"text-align: right;\">0.1761</td><td style = \"text-align: right;\">0.0</td><td style = \"text-align: right;\">0.0</td><td style = \"text-align: right;\">1</td><td style = \"text-align: right;\">1</td></tr><tr><td class = \"rowNumber\" style = \"font-weight: bold; text-align: right;\">6</td><td style = \"text-align: right;\">0.0381</td><td style = \"text-align: right;\">1</td><td style = \"text-align: right;\">0.0666397</td><td style = \"text-align: right;\">1</td><td style = \"text-align: right;\">1</td><td style = \"text-align: right;\">1</td><td style = \"text-align: right;\">1</td><td style = \"text-align: right;\">1</td><td style = \"text-align: right;\">0.1</td><td style = \"text-align: right;\">1</td><td style = \"text-align: right;\">0.1594</td><td style = \"text-align: right;\">1</td><td style = \"text-align: right;\">1</td><td style = \"text-align: right;\">1</td><td style = \"text-align: right;\">0.138</td><td style = \"text-align: right;\">0.1791</td><td style = \"text-align: right;\">1</td><td style = \"text-align: right;\">1</td><td style = \"text-align: right;\">1</td><td style = \"text-align: right;\">0.065</td><td style = \"text-align: right;\">0.0547</td><td style = \"text-align: right;\">0.0738</td><td style = \"text-align: right;\">0.2142</td><td style = \"text-align: right;\">0.222</td><td style = \"text-align: right;\">0.1914</td><td style = \"text-align: right;\">0.2699</td><td style = \"text-align: right;\">1</td><td style = \"text-align: right;\">1</td><td style = \"text-align: right;\">1</td><td style = \"text-align: right;\">1</td><td style = \"text-align: right;\">1</td><td style = \"text-align: right;\">0.2813</td><td style = \"text-align: right;\">0.1923</td><td style = \"text-align: right;\">0.1434</td><td style = \"text-align: right;\">0.035</td><td style = \"text-align: right;\">0.0187</td><td style = \"text-align: right;\">0.0228</td><td style = \"text-align: right;\">0.2335</td><td style = \"text-align: right;\">0.2614</td><td style = \"text-align: right;\">1</td><td style = \"text-align: right;\">1</td><td style = \"text-align: right;\">1</td><td style = \"text-align: right;\">1</td><td style = \"text-align: right;\">1</td><td style = \"text-align: right;\">0.0525</td><td style = \"text-align: right;\">0.2002</td><td style = \"text-align: right;\">0.0131</td><td style = \"text-align: right;\">0.0792</td><td style = \"text-align: right;\">0.0951</td><td style = \"text-align: right;\">0.0424</td><td style = \"text-align: right;\">0.1726</td><td style = \"text-align: right;\">0.1672</td><td style = \"text-align: right;\">0.2157</td><td style = \"text-align: right;\">1</td><td style = \"text-align: right;\">1</td></tr><tr><td class = \"rowNumber\" style = \"font-weight: bold; text-align: right;\">7</td><td style = \"text-align: right;\">0.0428</td><td style = \"text-align: right;\">1</td><td style = \"text-align: right;\">0.0666024</td><td style = \"text-align: right;\">1</td><td style = \"text-align: right;\">1</td><td style = \"text-align: right;\">1</td><td style = \"text-align: right;\">1</td><td style = \"text-align: right;\">1</td><td style = \"text-align: right;\">0.0948</td><td style = \"text-align: right;\">1</td><td style = \"text-align: right;\">0.3646</td><td style = \"text-align: right;\">1</td><td style = \"text-align: right;\">1</td><td style = \"text-align: right;\">1</td><td style = \"text-align: right;\">0.1027</td><td style = \"text-align: right;\">0.3971</td><td style = \"text-align: right;\">1</td><td style = \"text-align: right;\">1</td><td style = \"text-align: right;\">1</td><td style = \"text-align: right;\">0.0523</td><td style = \"text-align: right;\">0.0445</td><td style = \"text-align: right;\">0.0691</td><td style = \"text-align: right;\">0.5079</td><td style = \"text-align: right;\">0.5095</td><td style = \"text-align: right;\">0.437</td><td style = \"text-align: right;\">0.5744</td><td style = \"text-align: right;\">1</td><td style = \"text-align: right;\">1</td><td style = \"text-align: right;\">1</td><td style = \"text-align: right;\">1</td><td style = \"text-align: right;\">1</td><td style = \"text-align: right;\">0.1735</td><td style = \"text-align: right;\">0.1261</td><td style = \"text-align: right;\">0.1405</td><td style = \"text-align: right;\">0.0355</td><td style = \"text-align: right;\">0.0235</td><td style = \"text-align: right;\">0.0223</td><td style = \"text-align: right;\">0.5168</td><td style = \"text-align: right;\">0.5205</td><td style = \"text-align: right;\">1</td><td style = \"text-align: right;\">1</td><td style = \"text-align: right;\">1</td><td style = \"text-align: right;\">1</td><td style = \"text-align: right;\">1</td><td style = \"text-align: right;\">0.0164</td><td style = \"text-align: right;\">0.1329</td><td style = \"text-align: right;\">0.0</td><td style = \"text-align: right;\">0.0147</td><td style = \"text-align: right;\">0.0262</td><td style = \"text-align: right;\">0.0122</td><td style = \"text-align: right;\">0.1326</td><td style = \"text-align: right;\">0.4551</td><td style = \"text-align: right;\">0.5314</td><td style = \"text-align: right;\">1</td><td style = \"text-align: right;\">1</td></tr><tr><td class = \"rowNumber\" style = \"font-weight: bold; text-align: right;\">8</td><td style = \"text-align: right;\">0.0512</td><td style = \"text-align: right;\">1</td><td style = \"text-align: right;\">0.0665651</td><td style = \"text-align: right;\">1</td><td style = \"text-align: right;\">1</td><td style = \"text-align: right;\">1</td><td style = \"text-align: right;\">1</td><td style = \"text-align: right;\">1</td><td style = \"text-align: right;\">0.1621</td><td style = \"text-align: right;\">1</td><td style = \"text-align: right;\">0.496</td><td style = \"text-align: right;\">1</td><td style = \"text-align: right;\">1</td><td style = \"text-align: right;\">1</td><td style = \"text-align: right;\">0.0955</td><td style = \"text-align: right;\">0.4586</td><td style = \"text-align: right;\">1</td><td style = \"text-align: right;\">1</td><td style = \"text-align: right;\">1</td><td style = \"text-align: right;\">0.0547</td><td style = \"text-align: right;\">0.0541</td><td style = \"text-align: right;\">0.0771</td><td style = \"text-align: right;\">0.6951</td><td style = \"text-align: right;\">0.696</td><td style = \"text-align: right;\">0.5638</td><td style = \"text-align: right;\">0.7417</td><td style = \"text-align: right;\">1</td><td style = \"text-align: right;\">1</td><td style = \"text-align: right;\">1</td><td style = \"text-align: right;\">1</td><td style = \"text-align: right;\">1</td><td style = \"text-align: right;\">0.2555</td><td style = \"text-align: right;\">0.2337</td><td style = \"text-align: right;\">0.0583</td><td style = \"text-align: right;\">0.1293</td><td style = \"text-align: right;\">0.1337</td><td style = \"text-align: right;\">0.1507</td><td style = \"text-align: right;\">0.6974</td><td style = \"text-align: right;\">0.722</td><td style = \"text-align: right;\">1</td><td style = \"text-align: right;\">1</td><td style = \"text-align: right;\">1</td><td style = \"text-align: right;\">1</td><td style = \"text-align: right;\">1</td><td style = \"text-align: right;\">0.0</td><td style = \"text-align: right;\">0.0972</td><td style = \"text-align: right;\">0.0</td><td style = \"text-align: right;\">0.0096</td><td style = \"text-align: right;\">0.0325</td><td style = \"text-align: right;\">0.0</td><td style = \"text-align: right;\">0.1618</td><td style = \"text-align: right;\">0.6462</td><td style = \"text-align: right;\">0.7378</td><td style = \"text-align: right;\">1</td><td style = \"text-align: right;\">1</td></tr><tr><td class = \"rowNumber\" style = \"font-weight: bold; text-align: right;\">9</td><td style = \"text-align: right;\">0.0488</td><td style = \"text-align: right;\">1</td><td style = \"text-align: right;\">0.0665278</td><td style = \"text-align: right;\">1</td><td style = \"text-align: right;\">1</td><td style = \"text-align: right;\">1</td><td style = \"text-align: right;\">1</td><td style = \"text-align: right;\">1</td><td style = \"text-align: right;\">0.1671</td><td style = \"text-align: right;\">1</td><td style = \"text-align: right;\">0.5863</td><td style = \"text-align: right;\">1</td><td style = \"text-align: right;\">1</td><td style = \"text-align: right;\">1</td><td style = \"text-align: right;\">0.0769</td><td style = \"text-align: right;\">0.4157</td><td style = \"text-align: right;\">1</td><td style = \"text-align: right;\">1</td><td style = \"text-align: right;\">1</td><td style = \"text-align: right;\">0.0668</td><td style = \"text-align: right;\">0.0421</td><td style = \"text-align: right;\">0.0855</td><td style = \"text-align: right;\">0.7709</td><td style = \"text-align: right;\">0.7341</td><td style = \"text-align: right;\">0.6221</td><td style = \"text-align: right;\">0.7776</td><td style = \"text-align: right;\">1</td><td style = \"text-align: right;\">1</td><td style = \"text-align: right;\">1</td><td style = \"text-align: right;\">1</td><td style = \"text-align: right;\">1</td><td style = \"text-align: right;\">0.2311</td><td style = \"text-align: right;\">0.2251</td><td style = \"text-align: right;\">0.0308</td><td style = \"text-align: right;\">0.137</td><td style = \"text-align: right;\">0.1376</td><td style = \"text-align: right;\">0.1369</td><td style = \"text-align: right;\">0.7539</td><td style = \"text-align: right;\">0.782</td><td style = \"text-align: right;\">1</td><td style = \"text-align: right;\">1</td><td style = \"text-align: right;\">1</td><td style = \"text-align: right;\">1</td><td style = \"text-align: right;\">1</td><td style = \"text-align: right;\">0.0</td><td style = \"text-align: right;\">0.0809</td><td style = \"text-align: right;\">0.0</td><td style = \"text-align: right;\">0.0059</td><td style = \"text-align: right;\">0.0236</td><td style = \"text-align: right;\">0.0</td><td style = \"text-align: right;\">0.1116</td><td style = \"text-align: right;\">0.6808</td><td style = \"text-align: right;\">0.8011</td><td style = \"text-align: right;\">1</td><td style = \"text-align: right;\">1</td></tr><tr><td class = \"rowNumber\" style = \"font-weight: bold; text-align: right;\">10</td><td style = \"text-align: right;\">0.0487</td><td style = \"text-align: right;\">1</td><td style = \"text-align: right;\">0.0664904</td><td style = \"text-align: right;\">1</td><td style = \"text-align: right;\">1</td><td style = \"text-align: right;\">1</td><td style = \"text-align: right;\">1</td><td style = \"text-align: right;\">1</td><td style = \"text-align: right;\">0.1997</td><td style = \"text-align: right;\">1</td><td style = \"text-align: right;\">0.6285</td><td style = \"text-align: right;\">1</td><td style = \"text-align: right;\">1</td><td style = \"text-align: right;\">1</td><td style = \"text-align: right;\">0.0297</td><td style = \"text-align: right;\">0.5192</td><td style = \"text-align: right;\">1</td><td style = \"text-align: right;\">1</td><td style = \"text-align: right;\">1</td><td style = \"text-align: right;\">0.0614</td><td style = \"text-align: right;\">0.0518</td><td style = \"text-align: right;\">0.1081</td><td style = \"text-align: right;\">0.7877</td><td style = \"text-align: right;\">0.7578</td><td style = \"text-align: right;\">0.7124</td><td style = \"text-align: right;\">0.7879</td><td style = \"text-align: right;\">1</td><td style = \"text-align: right;\">1</td><td style = \"text-align: right;\">1</td><td style = \"text-align: right;\">1</td><td style = \"text-align: right;\">1</td><td style = \"text-align: right;\">0.2254</td><td style = \"text-align: right;\">0.237</td><td style = \"text-align: right;\">0.0173</td><td style = \"text-align: right;\">0.0863</td><td style = \"text-align: right;\">0.1059</td><td style = \"text-align: right;\">0.0946</td><td style = \"text-align: right;\">0.7685</td><td style = \"text-align: right;\">0.8008</td><td style = \"text-align: right;\">1</td><td style = \"text-align: right;\">1</td><td style = \"text-align: right;\">1</td><td style = \"text-align: right;\">1</td><td style = \"text-align: right;\">1</td><td style = \"text-align: right;\">0.0014</td><td style = \"text-align: right;\">0.0437</td><td style = \"text-align: right;\">0.0</td><td style = \"text-align: right;\">0.0021</td><td style = \"text-align: right;\">0.0087</td><td style = \"text-align: right;\">0.001</td><td style = \"text-align: right;\">0.0255</td><td style = \"text-align: right;\">0.7213</td><td style = \"text-align: right;\">0.8373</td><td style = \"text-align: right;\">1</td><td style = \"text-align: right;\">1</td></tr><tr><td class = \"rowNumber\" style = \"font-weight: bold; text-align: right;\">11</td><td style = \"text-align: right;\">0.0605</td><td style = \"text-align: right;\">1</td><td style = \"text-align: right;\">0.0664531</td><td style = \"text-align: right;\">1</td><td style = \"text-align: right;\">1</td><td style = \"text-align: right;\">1</td><td style = \"text-align: right;\">1</td><td style = \"text-align: right;\">1</td><td style = \"text-align: right;\">0.272</td><td style = \"text-align: right;\">1</td><td style = \"text-align: right;\">0.6377</td><td style = \"text-align: right;\">1</td><td style = \"text-align: right;\">1</td><td style = \"text-align: right;\">1</td><td style = \"text-align: right;\">0.0324</td><td style = \"text-align: right;\">0.4912</td><td style = \"text-align: right;\">1</td><td style = \"text-align: right;\">1</td><td style = \"text-align: right;\">1</td><td style = \"text-align: right;\">0.0643</td><td style = \"text-align: right;\">0.0662</td><td style = \"text-align: right;\">0.1273</td><td style = \"text-align: right;\">0.8081</td><td style = \"text-align: right;\">0.7923</td><td style = \"text-align: right;\">0.754</td><td style = \"text-align: right;\">0.8168</td><td style = \"text-align: right;\">1</td><td style = \"text-align: right;\">1</td><td style = \"text-align: right;\">1</td><td style = \"text-align: right;\">1</td><td style = \"text-align: right;\">1</td><td style = \"text-align: right;\">0.339</td><td style = \"text-align: right;\">0.2735</td><td style = \"text-align: right;\">0.0133</td><td style = \"text-align: right;\">0.0484</td><td style = \"text-align: right;\">0.0663</td><td style = \"text-align: right;\">0.0557</td><td style = \"text-align: right;\">0.7719</td><td style = \"text-align: right;\">0.8109</td><td style = \"text-align: right;\">1</td><td style = \"text-align: right;\">1</td><td style = \"text-align: right;\">1</td><td style = \"text-align: right;\">1</td><td style = \"text-align: right;\">1</td><td style = \"text-align: right;\">0.0</td><td style = \"text-align: right;\">0.0493</td><td style = \"text-align: right;\">0.0</td><td style = \"text-align: right;\">0.0021</td><td style = \"text-align: right;\">0.0041</td><td style = \"text-align: right;\">0.0</td><td style = \"text-align: right;\">0.0529</td><td style = \"text-align: right;\">0.7275</td><td style = \"text-align: right;\">0.8322</td><td style = \"text-align: right;\">1</td><td style = \"text-align: right;\">1</td></tr><tr><td class = \"rowNumber\" style = \"font-weight: bold; text-align: right;\">12</td><td style = \"text-align: right;\">0.0973</td><td style = \"text-align: right;\">1</td><td style = \"text-align: right;\">0.0664158</td><td style = \"text-align: right;\">1</td><td style = \"text-align: right;\">1</td><td style = \"text-align: right;\">1</td><td style = \"text-align: right;\">1</td><td style = \"text-align: right;\">1</td><td style = \"text-align: right;\">0.252</td><td style = \"text-align: right;\">1</td><td style = \"text-align: right;\">0.6294</td><td style = \"text-align: right;\">1</td><td style = \"text-align: right;\">1</td><td style = \"text-align: right;\">1</td><td style = \"text-align: right;\">0.0343</td><td style = \"text-align: right;\">0.519</td><td style = \"text-align: right;\">1</td><td style = \"text-align: right;\">1</td><td style = \"text-align: right;\">1</td><td style = \"text-align: right;\">0.0728</td><td style = \"text-align: right;\">0.0997</td><td style = \"text-align: right;\">0.1493</td><td style = \"text-align: right;\">0.843</td><td style = \"text-align: right;\">0.8282</td><td style = \"text-align: right;\">0.7664</td><td style = \"text-align: right;\">0.828</td><td style = \"text-align: right;\">1</td><td style = \"text-align: right;\">1</td><td style = \"text-align: right;\">1</td><td style = \"text-align: right;\">1</td><td style = \"text-align: right;\">1</td><td style = \"text-align: right;\">0.2744</td><td style = \"text-align: right;\">0.2447</td><td style = \"text-align: right;\">0.0089</td><td style = \"text-align: right;\">0.0139</td><td style = \"text-align: right;\">0.0195</td><td style = \"text-align: right;\">0.0162</td><td style = \"text-align: right;\">0.7345</td><td style = \"text-align: right;\">0.798</td><td style = \"text-align: right;\">1</td><td style = \"text-align: right;\">1</td><td style = \"text-align: right;\">1</td><td style = \"text-align: right;\">1</td><td style = \"text-align: right;\">1</td><td style = \"text-align: right;\">0.0055</td><td style = \"text-align: right;\">0.0556</td><td style = \"text-align: right;\">0.0086</td><td style = \"text-align: right;\">0.0054</td><td style = \"text-align: right;\">0.0081</td><td style = \"text-align: right;\">0.0063</td><td style = \"text-align: right;\">0.0829</td><td style = \"text-align: right;\">0.6748</td><td style = \"text-align: right;\">0.7421</td><td style = \"text-align: right;\">1</td><td style = \"text-align: right;\">1</td></tr><tr><td class = \"rowNumber\" style = \"font-weight: bold; text-align: right;\">13</td><td style = \"text-align: right;\">0.1303</td><td style = \"text-align: right;\">1</td><td style = \"text-align: right;\">0.0663785</td><td style = \"text-align: right;\">1</td><td style = \"text-align: right;\">1</td><td style = \"text-align: right;\">1</td><td style = \"text-align: right;\">1</td><td style = \"text-align: right;\">1</td><td style = \"text-align: right;\">0.322</td><td style = \"text-align: right;\">1</td><td style = \"text-align: right;\">0.5932</td><td style = \"text-align: right;\">1</td><td style = \"text-align: right;\">1</td><td style = \"text-align: right;\">1</td><td style = \"text-align: right;\">0.0529</td><td style = \"text-align: right;\">0.4168</td><td style = \"text-align: right;\">1</td><td style = \"text-align: right;\">1</td><td style = \"text-align: right;\">1</td><td style = \"text-align: right;\">0.0939</td><td style = \"text-align: right;\">0.1417</td><td style = \"text-align: right;\">0.1936</td><td style = \"text-align: right;\">0.8197</td><td style = \"text-align: right;\">0.8086</td><td style = \"text-align: right;\">0.7536</td><td style = \"text-align: right;\">0.8405</td><td style = \"text-align: right;\">1</td><td style = \"text-align: right;\">1</td><td style = \"text-align: right;\">1</td><td style = \"text-align: right;\">1</td><td style = \"text-align: right;\">1</td><td style = \"text-align: right;\">0.353</td><td style = \"text-align: right;\">0.338</td><td style = \"text-align: right;\">0.0124</td><td style = \"text-align: right;\">0.0032</td><td style = \"text-align: right;\">0.0053</td><td style = \"text-align: right;\">0.0</td><td style = \"text-align: right;\">0.6969</td><td style = \"text-align: right;\">0.7786</td><td style = \"text-align: right;\">1</td><td style = \"text-align: right;\">1</td><td style = \"text-align: right;\">1</td><td style = \"text-align: right;\">1</td><td style = \"text-align: right;\">1</td><td style = \"text-align: right;\">0.0279</td><td style = \"text-align: right;\">0.1069</td><td style = \"text-align: right;\">0.0361</td><td style = \"text-align: right;\">0.0291</td><td style = \"text-align: right;\">0.0331</td><td style = \"text-align: right;\">0.03</td><td style = \"text-align: right;\">0.1427</td><td style = \"text-align: right;\">0.5549</td><td style = \"text-align: right;\">0.6979</td><td style = \"text-align: right;\">1</td><td style = \"text-align: right;\">1</td></tr><tr><td style = \"text-align: right;\">&vellip;</td><td style = \"text-align: right;\">&vellip;</td><td style = \"text-align: right;\">&vellip;</td><td style = \"text-align: right;\">&vellip;</td><td style = \"text-align: right;\">&vellip;</td><td style = \"text-align: right;\">&vellip;</td><td style = \"text-align: right;\">&vellip;</td><td style = \"text-align: right;\">&vellip;</td><td style = \"text-align: right;\">&vellip;</td><td style = \"text-align: right;\">&vellip;</td><td style = \"text-align: right;\">&vellip;</td><td style = \"text-align: right;\">&vellip;</td><td style = \"text-align: right;\">&vellip;</td><td style = \"text-align: right;\">&vellip;</td><td style = \"text-align: right;\">&vellip;</td><td style = \"text-align: right;\">&vellip;</td><td style = \"text-align: right;\">&vellip;</td><td style = \"text-align: right;\">&vellip;</td><td style = \"text-align: right;\">&vellip;</td><td style = \"text-align: right;\">&vellip;</td><td style = \"text-align: right;\">&vellip;</td><td style = \"text-align: right;\">&vellip;</td><td style = \"text-align: right;\">&vellip;</td><td style = \"text-align: right;\">&vellip;</td><td style = \"text-align: right;\">&vellip;</td><td style = \"text-align: right;\">&vellip;</td><td style = \"text-align: right;\">&vellip;</td><td style = \"text-align: right;\">&vellip;</td><td style = \"text-align: right;\">&vellip;</td><td style = \"text-align: right;\">&vellip;</td><td style = \"text-align: right;\">&vellip;</td><td style = \"text-align: right;\">&vellip;</td><td style = \"text-align: right;\">&vellip;</td><td style = \"text-align: right;\">&vellip;</td><td style = \"text-align: right;\">&vellip;</td><td style = \"text-align: right;\">&vellip;</td><td style = \"text-align: right;\">&vellip;</td><td style = \"text-align: right;\">&vellip;</td><td style = \"text-align: right;\">&vellip;</td><td style = \"text-align: right;\">&vellip;</td><td style = \"text-align: right;\">&vellip;</td><td style = \"text-align: right;\">&vellip;</td><td style = \"text-align: right;\">&vellip;</td><td style = \"text-align: right;\">&vellip;</td><td style = \"text-align: right;\">&vellip;</td><td style = \"text-align: right;\">&vellip;</td><td style = \"text-align: right;\">&vellip;</td><td style = \"text-align: right;\">&vellip;</td><td style = \"text-align: right;\">&vellip;</td><td style = \"text-align: right;\">&vellip;</td><td style = \"text-align: right;\">&vellip;</td><td style = \"text-align: right;\">&vellip;</td><td style = \"text-align: right;\">&vellip;</td><td style = \"text-align: right;\">&vellip;</td><td style = \"text-align: right;\">&vellip;</td><td style = \"text-align: right;\">&vellip;</td></tr><tr><td class = \"rowNumber\" style = \"font-weight: bold; text-align: right;\">229</td><td style = \"text-align: right;\">0.0997</td><td style = \"text-align: right;\">1</td><td style = \"text-align: right;\">0.0676424</td><td style = \"text-align: right;\">1</td><td style = \"text-align: right;\">1</td><td style = \"text-align: right;\">1</td><td style = \"text-align: right;\">1</td><td style = \"text-align: right;\">1</td><td style = \"text-align: right;\">0.097</td><td style = \"text-align: right;\">1</td><td style = \"text-align: right;\">0.6354</td><td style = \"text-align: right;\">1</td><td style = \"text-align: right;\">1</td><td style = \"text-align: right;\">1</td><td style = \"text-align: right;\">0.0546</td><td style = \"text-align: right;\">0.7096</td><td style = \"text-align: right;\">1</td><td style = \"text-align: right;\">1</td><td style = \"text-align: right;\">1</td><td style = \"text-align: right;\">0.0904</td><td style = \"text-align: right;\">0.1259</td><td style = \"text-align: right;\">0.1964</td><td style = \"text-align: right;\">0.9442</td><td style = \"text-align: right;\">0.9429</td><td style = \"text-align: right;\">0.9372</td><td style = \"text-align: right;\">0.9503</td><td style = \"text-align: right;\">1</td><td style = \"text-align: right;\">1</td><td style = \"text-align: right;\">1</td><td style = \"text-align: right;\">1</td><td style = \"text-align: right;\">1</td><td style = \"text-align: right;\">0.0805</td><td style = \"text-align: right;\">0.1314</td><td style = \"text-align: right;\">0.0</td><td style = \"text-align: right;\">0.0897</td><td style = \"text-align: right;\">0.0448</td><td style = \"text-align: right;\">0.052</td><td style = \"text-align: right;\">0.8646</td><td style = \"text-align: right;\">0.8626</td><td style = \"text-align: right;\">1</td><td style = \"text-align: right;\">1</td><td style = \"text-align: right;\">1</td><td style = \"text-align: right;\">1</td><td style = \"text-align: right;\">1</td><td style = \"text-align: right;\">0.137</td><td style = \"text-align: right;\">0.0162</td><td style = \"text-align: right;\">0.1804</td><td style = \"text-align: right;\">0.1382</td><td style = \"text-align: right;\">0.109</td><td style = \"text-align: right;\">0.1481</td><td style = \"text-align: right;\">0.0365</td><td style = \"text-align: right;\">0.9173</td><td style = \"text-align: right;\">0.9036</td><td style = \"text-align: right;\">1</td><td style = \"text-align: right;\">1</td></tr><tr><td class = \"rowNumber\" style = \"font-weight: bold; text-align: right;\">230</td><td style = \"text-align: right;\">0.1089</td><td style = \"text-align: right;\">1</td><td style = \"text-align: right;\">0.0674763</td><td style = \"text-align: right;\">1</td><td style = \"text-align: right;\">1</td><td style = \"text-align: right;\">1</td><td style = \"text-align: right;\">1</td><td style = \"text-align: right;\">1</td><td style = \"text-align: right;\">0.1648</td><td style = \"text-align: right;\">1</td><td style = \"text-align: right;\">0.6042</td><td style = \"text-align: right;\">1</td><td style = \"text-align: right;\">1</td><td style = \"text-align: right;\">1</td><td style = \"text-align: right;\">0.0971</td><td style = \"text-align: right;\">0.7123</td><td style = \"text-align: right;\">1</td><td style = \"text-align: right;\">1</td><td style = \"text-align: right;\">1</td><td style = \"text-align: right;\">0.1096</td><td style = \"text-align: right;\">0.1431</td><td style = \"text-align: right;\">0.1866</td><td style = \"text-align: right;\">0.9402</td><td style = \"text-align: right;\">0.9406</td><td style = \"text-align: right;\">0.934</td><td style = \"text-align: right;\">0.9413</td><td style = \"text-align: right;\">1</td><td style = \"text-align: right;\">1</td><td style = \"text-align: right;\">1</td><td style = \"text-align: right;\">1</td><td style = \"text-align: right;\">1</td><td style = \"text-align: right;\">0.0879</td><td style = \"text-align: right;\">0.1612</td><td style = \"text-align: right;\">0.0024</td><td style = \"text-align: right;\">0.1286</td><td style = \"text-align: right;\">0.0743</td><td style = \"text-align: right;\">0.0849</td><td style = \"text-align: right;\">0.8525</td><td style = \"text-align: right;\">0.8365</td><td style = \"text-align: right;\">1</td><td style = \"text-align: right;\">1</td><td style = \"text-align: right;\">1</td><td style = \"text-align: right;\">1</td><td style = \"text-align: right;\">1</td><td style = \"text-align: right;\">0.2078</td><td style = \"text-align: right;\">0.0525</td><td style = \"text-align: right;\">0.2817</td><td style = \"text-align: right;\">0.1982</td><td style = \"text-align: right;\">0.169</td><td style = \"text-align: right;\">0.2269</td><td style = \"text-align: right;\">0.1064</td><td style = \"text-align: right;\">0.9154</td><td style = \"text-align: right;\">0.9001</td><td style = \"text-align: right;\">1</td><td style = \"text-align: right;\">1</td></tr><tr><td class = \"rowNumber\" style = \"font-weight: bold; text-align: right;\">231</td><td style = \"text-align: right;\">0.1708</td><td style = \"text-align: right;\">1</td><td style = \"text-align: right;\">0.0673102</td><td style = \"text-align: right;\">1</td><td style = \"text-align: right;\">1</td><td style = \"text-align: right;\">1</td><td style = \"text-align: right;\">1</td><td style = \"text-align: right;\">1</td><td style = \"text-align: right;\">0.2451</td><td style = \"text-align: right;\">1</td><td style = \"text-align: right;\">0.5619</td><td style = \"text-align: right;\">1</td><td style = \"text-align: right;\">1</td><td style = \"text-align: right;\">1</td><td style = \"text-align: right;\">0.124</td><td style = \"text-align: right;\">0.6972</td><td style = \"text-align: right;\">1</td><td style = \"text-align: right;\">1</td><td style = \"text-align: right;\">1</td><td style = \"text-align: right;\">0.1559</td><td style = \"text-align: right;\">0.2044</td><td style = \"text-align: right;\">0.2514</td><td style = \"text-align: right;\">0.9237</td><td style = \"text-align: right;\">0.924</td><td style = \"text-align: right;\">0.9185</td><td style = \"text-align: right;\">0.9286</td><td style = \"text-align: right;\">1</td><td style = \"text-align: right;\">1</td><td style = \"text-align: right;\">1</td><td style = \"text-align: right;\">1</td><td style = \"text-align: right;\">1</td><td style = \"text-align: right;\">0.1469</td><td style = \"text-align: right;\">0.2592</td><td style = \"text-align: right;\">0.0037</td><td style = \"text-align: right;\">0.1018</td><td style = \"text-align: right;\">0.0717</td><td style = \"text-align: right;\">0.0885</td><td style = \"text-align: right;\">0.8292</td><td style = \"text-align: right;\">0.7433</td><td style = \"text-align: right;\">1</td><td style = \"text-align: right;\">1</td><td style = \"text-align: right;\">1</td><td style = \"text-align: right;\">1</td><td style = \"text-align: right;\">1</td><td style = \"text-align: right;\">0.3034</td><td style = \"text-align: right;\">0.047</td><td style = \"text-align: right;\">0.414</td><td style = \"text-align: right;\">0.2304</td><td style = \"text-align: right;\">0.1844</td><td style = \"text-align: right;\">0.3319</td><td style = \"text-align: right;\">0.1347</td><td style = \"text-align: right;\">0.8943</td><td style = \"text-align: right;\">0.8783</td><td style = \"text-align: right;\">1</td><td style = \"text-align: right;\">1</td></tr><tr><td class = \"rowNumber\" style = \"font-weight: bold; text-align: right;\">232</td><td style = \"text-align: right;\">0.1565</td><td style = \"text-align: right;\">1</td><td style = \"text-align: right;\">0.0671441</td><td style = \"text-align: right;\">1</td><td style = \"text-align: right;\">1</td><td style = \"text-align: right;\">1</td><td style = \"text-align: right;\">1</td><td style = \"text-align: right;\">1</td><td style = \"text-align: right;\">0.2916</td><td style = \"text-align: right;\">1</td><td style = \"text-align: right;\">0.4681</td><td style = \"text-align: right;\">1</td><td style = \"text-align: right;\">1</td><td style = \"text-align: right;\">1</td><td style = \"text-align: right;\">0.1268</td><td style = \"text-align: right;\">0.6399</td><td style = \"text-align: right;\">1</td><td style = \"text-align: right;\">1</td><td style = \"text-align: right;\">1</td><td style = \"text-align: right;\">0.1583</td><td style = \"text-align: right;\">0.1783</td><td style = \"text-align: right;\">0.2206</td><td style = \"text-align: right;\">0.8848</td><td style = \"text-align: right;\">0.8837</td><td style = \"text-align: right;\">0.8762</td><td style = \"text-align: right;\">0.8899</td><td style = \"text-align: right;\">1</td><td style = \"text-align: right;\">1</td><td style = \"text-align: right;\">1</td><td style = \"text-align: right;\">1</td><td style = \"text-align: right;\">1</td><td style = \"text-align: right;\">0.1741</td><td style = \"text-align: right;\">0.2692</td><td style = \"text-align: right;\">0.0027</td><td style = \"text-align: right;\">0.0634</td><td style = \"text-align: right;\">0.062</td><td style = \"text-align: right;\">0.0616</td><td style = \"text-align: right;\">0.7425</td><td style = \"text-align: right;\">0.6177</td><td style = \"text-align: right;\">1</td><td style = \"text-align: right;\">1</td><td style = \"text-align: right;\">1</td><td style = \"text-align: right;\">1</td><td style = \"text-align: right;\">1</td><td style = \"text-align: right;\">0.2359</td><td style = \"text-align: right;\">0.1228</td><td style = \"text-align: right;\">0.2994</td><td style = \"text-align: right;\">0.2121</td><td style = \"text-align: right;\">0.1593</td><td style = \"text-align: right;\">0.2523</td><td style = \"text-align: right;\">0.1505</td><td style = \"text-align: right;\">0.8252</td><td style = \"text-align: right;\">0.8008</td><td style = \"text-align: right;\">1</td><td style = \"text-align: right;\">1</td></tr><tr><td class = \"rowNumber\" style = \"font-weight: bold; text-align: right;\">233</td><td style = \"text-align: right;\">0.1933</td><td style = \"text-align: right;\">1</td><td style = \"text-align: right;\">0.066978</td><td style = \"text-align: right;\">1</td><td style = \"text-align: right;\">1</td><td style = \"text-align: right;\">1</td><td style = \"text-align: right;\">1</td><td style = \"text-align: right;\">1</td><td style = \"text-align: right;\">0.1976</td><td style = \"text-align: right;\">1</td><td style = \"text-align: right;\">0.3025</td><td style = \"text-align: right;\">1</td><td style = \"text-align: right;\">1</td><td style = \"text-align: right;\">1</td><td style = \"text-align: right;\">0.1307</td><td style = \"text-align: right;\">0.4882</td><td style = \"text-align: right;\">1</td><td style = \"text-align: right;\">1</td><td style = \"text-align: right;\">1</td><td style = \"text-align: right;\">0.2056</td><td style = \"text-align: right;\">0.1997</td><td style = \"text-align: right;\">0.2689</td><td style = \"text-align: right;\">0.7301</td><td style = \"text-align: right;\">0.729</td><td style = \"text-align: right;\">0.7197</td><td style = \"text-align: right;\">0.7458</td><td style = \"text-align: right;\">1</td><td style = \"text-align: right;\">1</td><td style = \"text-align: right;\">1</td><td style = \"text-align: right;\">1</td><td style = \"text-align: right;\">1</td><td style = \"text-align: right;\">0.119</td><td style = \"text-align: right;\">0.2276</td><td style = \"text-align: right;\">0.0077</td><td style = \"text-align: right;\">0.0541</td><td style = \"text-align: right;\">0.058</td><td style = \"text-align: right;\">0.055</td><td style = \"text-align: right;\">0.534</td><td style = \"text-align: right;\">0.3769</td><td style = \"text-align: right;\">1</td><td style = \"text-align: right;\">1</td><td style = \"text-align: right;\">1</td><td style = \"text-align: right;\">1</td><td style = \"text-align: right;\">1</td><td style = \"text-align: right;\">0.2278</td><td style = \"text-align: right;\">0.1177</td><td style = \"text-align: right;\">0.2352</td><td style = \"text-align: right;\">0.2065</td><td style = \"text-align: right;\">0.1379</td><td style = \"text-align: right;\">0.2297</td><td style = \"text-align: right;\">0.1563</td><td style = \"text-align: right;\">0.6371</td><td style = \"text-align: right;\">0.6022</td><td style = \"text-align: right;\">1</td><td style = \"text-align: right;\">1</td></tr><tr><td class = \"rowNumber\" style = \"font-weight: bold; text-align: right;\">234</td><td style = \"text-align: right;\">0.2496</td><td style = \"text-align: right;\">1</td><td style = \"text-align: right;\">0.0668119</td><td style = \"text-align: right;\">1</td><td style = \"text-align: right;\">1</td><td style = \"text-align: right;\">1</td><td style = \"text-align: right;\">1</td><td style = \"text-align: right;\">1</td><td style = \"text-align: right;\">0.2498</td><td style = \"text-align: right;\">1</td><td style = \"text-align: right;\">0.1153</td><td style = \"text-align: right;\">1</td><td style = \"text-align: right;\">1</td><td style = \"text-align: right;\">1</td><td style = \"text-align: right;\">0.1413</td><td style = \"text-align: right;\">0.2571</td><td style = \"text-align: right;\">1</td><td style = \"text-align: right;\">1</td><td style = \"text-align: right;\">1</td><td style = \"text-align: right;\">0.3021</td><td style = \"text-align: right;\">0.3086</td><td style = \"text-align: right;\">0.3591</td><td style = \"text-align: right;\">0.4607</td><td style = \"text-align: right;\">0.4605</td><td style = \"text-align: right;\">0.4495</td><td style = \"text-align: right;\">0.4877</td><td style = \"text-align: right;\">1</td><td style = \"text-align: right;\">1</td><td style = \"text-align: right;\">1</td><td style = \"text-align: right;\">1</td><td style = \"text-align: right;\">1</td><td style = \"text-align: right;\">0.2074</td><td style = \"text-align: right;\">0.2051</td><td style = \"text-align: right;\">0.0151</td><td style = \"text-align: right;\">0.0797</td><td style = \"text-align: right;\">0.0707</td><td style = \"text-align: right;\">0.085</td><td style = \"text-align: right;\">0.2265</td><td style = \"text-align: right;\">0.0848</td><td style = \"text-align: right;\">1</td><td style = \"text-align: right;\">1</td><td style = \"text-align: right;\">1</td><td style = \"text-align: right;\">1</td><td style = \"text-align: right;\">1</td><td style = \"text-align: right;\">0.1337</td><td style = \"text-align: right;\">0.1968</td><td style = \"text-align: right;\">0.1156</td><td style = \"text-align: right;\">0.1596</td><td style = \"text-align: right;\">0.127</td><td style = \"text-align: right;\">0.129</td><td style = \"text-align: right;\">0.1833</td><td style = \"text-align: right;\">0.3447</td><td style = \"text-align: right;\">0.3063</td><td style = \"text-align: right;\">1</td><td style = \"text-align: right;\">1</td></tr><tr><td class = \"rowNumber\" style = \"font-weight: bold; text-align: right;\">235</td><td style = \"text-align: right;\">0.2542</td><td style = \"text-align: right;\">1</td><td style = \"text-align: right;\">0.0666458</td><td style = \"text-align: right;\">1</td><td style = \"text-align: right;\">1</td><td style = \"text-align: right;\">1</td><td style = \"text-align: right;\">1</td><td style = \"text-align: right;\">1</td><td style = \"text-align: right;\">0.2113</td><td style = \"text-align: right;\">1</td><td style = \"text-align: right;\">0.0</td><td style = \"text-align: right;\">1</td><td style = \"text-align: right;\">1</td><td style = \"text-align: right;\">1</td><td style = \"text-align: right;\">0.1769</td><td style = \"text-align: right;\">0.0</td><td style = \"text-align: right;\">1</td><td style = \"text-align: right;\">1</td><td style = \"text-align: right;\">1</td><td style = \"text-align: right;\">0.3294</td><td style = \"text-align: right;\">0.3089</td><td style = \"text-align: right;\">0.3568</td><td style = \"text-align: right;\">0.0</td><td style = \"text-align: right;\">0.0</td><td style = \"text-align: right;\">0.0</td><td style = \"text-align: right;\">0.0216</td><td style = \"text-align: right;\">1</td><td style = \"text-align: right;\">1</td><td style = \"text-align: right;\">1</td><td style = \"text-align: right;\">1</td><td style = \"text-align: right;\">1</td><td style = \"text-align: right;\">0.337</td><td style = \"text-align: right;\">0.226</td><td style = \"text-align: right;\">0.0396</td><td style = \"text-align: right;\">0.0583</td><td style = \"text-align: right;\">0.0689</td><td style = \"text-align: right;\">0.0723</td><td style = \"text-align: right;\">0.0</td><td style = \"text-align: right;\">0.0</td><td style = \"text-align: right;\">1</td><td style = \"text-align: right;\">1</td><td style = \"text-align: right;\">1</td><td style = \"text-align: right;\">1</td><td style = \"text-align: right;\">1</td><td style = \"text-align: right;\">0.221</td><td style = \"text-align: right;\">0.2431</td><td style = \"text-align: right;\">0.2002</td><td style = \"text-align: right;\">0.233</td><td style = \"text-align: right;\">0.2321</td><td style = \"text-align: right;\">0.2156</td><td style = \"text-align: right;\">0.2266</td><td style = \"text-align: right;\">0.0</td><td style = \"text-align: right;\">0.0</td><td style = \"text-align: right;\">1</td><td style = \"text-align: right;\">1</td></tr><tr><td class = \"rowNumber\" style = \"font-weight: bold; text-align: right;\">236</td><td style = \"text-align: right;\">0.4159</td><td style = \"text-align: right;\">1</td><td style = \"text-align: right;\">0.0664798</td><td style = \"text-align: right;\">1</td><td style = \"text-align: right;\">1</td><td style = \"text-align: right;\">1</td><td style = \"text-align: right;\">1</td><td style = \"text-align: right;\">1</td><td style = \"text-align: right;\">0.2421</td><td style = \"text-align: right;\">1</td><td style = \"text-align: right;\">0.0</td><td style = \"text-align: right;\">1</td><td style = \"text-align: right;\">1</td><td style = \"text-align: right;\">1</td><td style = \"text-align: right;\">0.2661</td><td style = \"text-align: right;\">0.0</td><td style = \"text-align: right;\">1</td><td style = \"text-align: right;\">1</td><td style = \"text-align: right;\">1</td><td style = \"text-align: right;\">0.4784</td><td style = \"text-align: right;\">0.5028</td><td style = \"text-align: right;\">0.5457</td><td style = \"text-align: right;\">0.0</td><td style = \"text-align: right;\">0.0</td><td style = \"text-align: right;\">0.0</td><td style = \"text-align: right;\">0.0</td><td style = \"text-align: right;\">1</td><td style = \"text-align: right;\">1</td><td style = \"text-align: right;\">1</td><td style = \"text-align: right;\">1</td><td style = \"text-align: right;\">1</td><td style = \"text-align: right;\">0.5792</td><td style = \"text-align: right;\">0.4622</td><td style = \"text-align: right;\">0.0553</td><td style = \"text-align: right;\">0.0575</td><td style = \"text-align: right;\">0.0505</td><td style = \"text-align: right;\">0.0641</td><td style = \"text-align: right;\">0.0</td><td style = \"text-align: right;\">0.0</td><td style = \"text-align: right;\">1</td><td style = \"text-align: right;\">1</td><td style = \"text-align: right;\">1</td><td style = \"text-align: right;\">1</td><td style = \"text-align: right;\">1</td><td style = \"text-align: right;\">0.3908</td><td style = \"text-align: right;\">0.2631</td><td style = \"text-align: right;\">0.3751</td><td style = \"text-align: right;\">0.3507</td><td style = \"text-align: right;\">0.3725</td><td style = \"text-align: right;\">0.3868</td><td style = \"text-align: right;\">0.3706</td><td style = \"text-align: right;\">0.0</td><td style = \"text-align: right;\">0.0</td><td style = \"text-align: right;\">1</td><td style = \"text-align: right;\">1</td></tr><tr><td class = \"rowNumber\" style = \"font-weight: bold; text-align: right;\">237</td><td style = \"text-align: right;\">0.547</td><td style = \"text-align: right;\">1</td><td style = \"text-align: right;\">0.0663137</td><td style = \"text-align: right;\">1</td><td style = \"text-align: right;\">1</td><td style = \"text-align: right;\">1</td><td style = \"text-align: right;\">1</td><td style = \"text-align: right;\">1</td><td style = \"text-align: right;\">0.1199</td><td style = \"text-align: right;\">1</td><td style = \"text-align: right;\">0.0</td><td style = \"text-align: right;\">1</td><td style = \"text-align: right;\">1</td><td style = \"text-align: right;\">1</td><td style = \"text-align: right;\">0.3075</td><td style = \"text-align: right;\">0.0</td><td style = \"text-align: right;\">1</td><td style = \"text-align: right;\">1</td><td style = \"text-align: right;\">1</td><td style = \"text-align: right;\">0.6347</td><td style = \"text-align: right;\">0.6345</td><td style = \"text-align: right;\">0.6468</td><td style = \"text-align: right;\">0.0</td><td style = \"text-align: right;\">0.0</td><td style = \"text-align: right;\">0.0</td><td style = \"text-align: right;\">0.0</td><td style = \"text-align: right;\">1</td><td style = \"text-align: right;\">1</td><td style = \"text-align: right;\">1</td><td style = \"text-align: right;\">1</td><td style = \"text-align: right;\">1</td><td style = \"text-align: right;\">0.3826</td><td style = \"text-align: right;\">0.3372</td><td style = \"text-align: right;\">0.0801</td><td style = \"text-align: right;\">0.0602</td><td style = \"text-align: right;\">0.0334</td><td style = \"text-align: right;\">0.0559</td><td style = \"text-align: right;\">0.0</td><td style = \"text-align: right;\">0.0</td><td style = \"text-align: right;\">1</td><td style = \"text-align: right;\">1</td><td style = \"text-align: right;\">1</td><td style = \"text-align: right;\">1</td><td style = \"text-align: right;\">1</td><td style = \"text-align: right;\">0.4411</td><td style = \"text-align: right;\">0.3229</td><td style = \"text-align: right;\">0.4343</td><td style = \"text-align: right;\">0.3552</td><td style = \"text-align: right;\">0.3911</td><td style = \"text-align: right;\">0.4393</td><td style = \"text-align: right;\">0.4516</td><td style = \"text-align: right;\">0.0</td><td style = \"text-align: right;\">0.0</td><td style = \"text-align: right;\">1</td><td style = \"text-align: right;\">1</td></tr><tr><td class = \"rowNumber\" style = \"font-weight: bold; text-align: right;\">238</td><td style = \"text-align: right;\">0.5691</td><td style = \"text-align: right;\">1</td><td style = \"text-align: right;\">0.0661476</td><td style = \"text-align: right;\">1</td><td style = \"text-align: right;\">1</td><td style = \"text-align: right;\">1</td><td style = \"text-align: right;\">1</td><td style = \"text-align: right;\">1</td><td style = \"text-align: right;\">0.0953</td><td style = \"text-align: right;\">1</td><td style = \"text-align: right;\">0.0</td><td style = \"text-align: right;\">1</td><td style = \"text-align: right;\">1</td><td style = \"text-align: right;\">1</td><td style = \"text-align: right;\">0.2874</td><td style = \"text-align: right;\">0.0</td><td style = \"text-align: right;\">1</td><td style = \"text-align: right;\">1</td><td style = \"text-align: right;\">1</td><td style = \"text-align: right;\">0.6728</td><td style = \"text-align: right;\">0.6848</td><td style = \"text-align: right;\">0.6709</td><td style = \"text-align: right;\">0.0</td><td style = \"text-align: right;\">0.0</td><td style = \"text-align: right;\">0.0</td><td style = \"text-align: right;\">0.0</td><td style = \"text-align: right;\">1</td><td style = \"text-align: right;\">1</td><td style = \"text-align: right;\">1</td><td style = \"text-align: right;\">1</td><td style = \"text-align: right;\">1</td><td style = \"text-align: right;\">0.3487</td><td style = \"text-align: right;\">0.2781</td><td style = \"text-align: right;\">0.091</td><td style = \"text-align: right;\">0.0898</td><td style = \"text-align: right;\">0.0388</td><td style = \"text-align: right;\">0.0731</td><td style = \"text-align: right;\">0.0</td><td style = \"text-align: right;\">0.0</td><td style = \"text-align: right;\">1</td><td style = \"text-align: right;\">1</td><td style = \"text-align: right;\">1</td><td style = \"text-align: right;\">1</td><td style = \"text-align: right;\">1</td><td style = \"text-align: right;\">0.3498</td><td style = \"text-align: right;\">0.2684</td><td style = \"text-align: right;\">0.3414</td><td style = \"text-align: right;\">0.2889</td><td style = \"text-align: right;\">0.324</td><td style = \"text-align: right;\">0.3476</td><td style = \"text-align: right;\">0.4096</td><td style = \"text-align: right;\">0.0</td><td style = \"text-align: right;\">0.0</td><td style = \"text-align: right;\">1</td><td style = \"text-align: right;\">1</td></tr><tr><td class = \"rowNumber\" style = \"font-weight: bold; text-align: right;\">239</td><td style = \"text-align: right;\">0.5853</td><td style = \"text-align: right;\">1</td><td style = \"text-align: right;\">0.0659815</td><td style = \"text-align: right;\">1</td><td style = \"text-align: right;\">1</td><td style = \"text-align: right;\">1</td><td style = \"text-align: right;\">1</td><td style = \"text-align: right;\">1</td><td style = \"text-align: right;\">0.0904</td><td style = \"text-align: right;\">1</td><td style = \"text-align: right;\">0.0</td><td style = \"text-align: right;\">1</td><td style = \"text-align: right;\">1</td><td style = \"text-align: right;\">1</td><td style = \"text-align: right;\">0.2639</td><td style = \"text-align: right;\">0.0</td><td style = \"text-align: right;\">1</td><td style = \"text-align: right;\">1</td><td style = \"text-align: right;\">1</td><td style = \"text-align: right;\">0.7255</td><td style = \"text-align: right;\">0.721</td><td style = \"text-align: right;\">0.6898</td><td style = \"text-align: right;\">0.0</td><td style = \"text-align: right;\">0.0</td><td style = \"text-align: right;\">0.0</td><td style = \"text-align: right;\">0.0</td><td style = \"text-align: right;\">1</td><td style = \"text-align: right;\">1</td><td style = \"text-align: right;\">1</td><td style = \"text-align: right;\">1</td><td style = \"text-align: right;\">1</td><td style = \"text-align: right;\">0.3227</td><td style = \"text-align: right;\">0.2505</td><td style = \"text-align: right;\">0.0963</td><td style = \"text-align: right;\">0.1059</td><td style = \"text-align: right;\">0.0883</td><td style = \"text-align: right;\">0.1038</td><td style = \"text-align: right;\">0.0</td><td style = \"text-align: right;\">0.0</td><td style = \"text-align: right;\">1</td><td style = \"text-align: right;\">1</td><td style = \"text-align: right;\">1</td><td style = \"text-align: right;\">1</td><td style = \"text-align: right;\">1</td><td style = \"text-align: right;\">0.3087</td><td style = \"text-align: right;\">0.1808</td><td style = \"text-align: right;\">0.3174</td><td style = \"text-align: right;\">0.2506</td><td style = \"text-align: right;\">0.2668</td><td style = \"text-align: right;\">0.3109</td><td style = \"text-align: right;\">0.3406</td><td style = \"text-align: right;\">0.0</td><td style = \"text-align: right;\">0.0</td><td style = \"text-align: right;\">1</td><td style = \"text-align: right;\">1</td></tr><tr><td class = \"rowNumber\" style = \"font-weight: bold; text-align: right;\">240</td><td style = \"text-align: right;\">0.5704</td><td style = \"text-align: right;\">1</td><td style = \"text-align: right;\">0.0658154</td><td style = \"text-align: right;\">1</td><td style = \"text-align: right;\">1</td><td style = \"text-align: right;\">1</td><td style = \"text-align: right;\">1</td><td style = \"text-align: right;\">1</td><td style = \"text-align: right;\">0.0781</td><td style = \"text-align: right;\">1</td><td style = \"text-align: right;\">0.0</td><td style = \"text-align: right;\">1</td><td style = \"text-align: right;\">1</td><td style = \"text-align: right;\">1</td><td style = \"text-align: right;\">0.2897</td><td style = \"text-align: right;\">0.0</td><td style = \"text-align: right;\">1</td><td style = \"text-align: right;\">1</td><td style = \"text-align: right;\">1</td><td style = \"text-align: right;\">0.7304</td><td style = \"text-align: right;\">0.7291</td><td style = \"text-align: right;\">0.6436</td><td style = \"text-align: right;\">0.0</td><td style = \"text-align: right;\">0.0</td><td style = \"text-align: right;\">0.0</td><td style = \"text-align: right;\">0.0</td><td style = \"text-align: right;\">1</td><td style = \"text-align: right;\">1</td><td style = \"text-align: right;\">1</td><td style = \"text-align: right;\">1</td><td style = \"text-align: right;\">1</td><td style = \"text-align: right;\">0.2443</td><td style = \"text-align: right;\">0.2165</td><td style = \"text-align: right;\">0.1152</td><td style = \"text-align: right;\">0.1532</td><td style = \"text-align: right;\">0.1959</td><td style = \"text-align: right;\">0.1741</td><td style = \"text-align: right;\">0.0</td><td style = \"text-align: right;\">0.0</td><td style = \"text-align: right;\">1</td><td style = \"text-align: right;\">1</td><td style = \"text-align: right;\">1</td><td style = \"text-align: right;\">1</td><td style = \"text-align: right;\">1</td><td style = \"text-align: right;\">0.4369</td><td style = \"text-align: right;\">0.1733</td><td style = \"text-align: right;\">0.4666</td><td style = \"text-align: right;\">0.3141</td><td style = \"text-align: right;\">0.3256</td><td style = \"text-align: right;\">0.4445</td><td style = \"text-align: right;\">0.3786</td><td style = \"text-align: right;\">0.0</td><td style = \"text-align: right;\">0.0</td><td style = \"text-align: right;\">1</td><td style = \"text-align: right;\">1</td></tr></tbody></table></div>"
      ],
      "text/latex": [
       "\\begin{tabular}{r|ccccc}\n",
       "\t& onshore\\_wind\\_turbine\\_1 & biomass\\_2 & conventional\\_hydroelectric\\_3 & conventional\\_steam\\_coal\\_4 & \\\\\n",
       "\t\\hline\n",
       "\t& Float64 & Int64 & Float64 & Int64 & \\\\\n",
       "\t\\hline\n",
       "\t1 & 0.1844 & 1 & 0.0668263 & 1 & $\\dots$ \\\\\n",
       "\t2 & 0.1263 & 1 & 0.0667889 & 1 & $\\dots$ \\\\\n",
       "\t3 & 0.0817 & 1 & 0.0667516 & 1 & $\\dots$ \\\\\n",
       "\t4 & 0.0494 & 1 & 0.0667143 & 1 & $\\dots$ \\\\\n",
       "\t5 & 0.0344 & 1 & 0.066677 & 1 & $\\dots$ \\\\\n",
       "\t6 & 0.0381 & 1 & 0.0666397 & 1 & $\\dots$ \\\\\n",
       "\t7 & 0.0428 & 1 & 0.0666024 & 1 & $\\dots$ \\\\\n",
       "\t8 & 0.0512 & 1 & 0.0665651 & 1 & $\\dots$ \\\\\n",
       "\t9 & 0.0488 & 1 & 0.0665278 & 1 & $\\dots$ \\\\\n",
       "\t10 & 0.0487 & 1 & 0.0664904 & 1 & $\\dots$ \\\\\n",
       "\t11 & 0.0605 & 1 & 0.0664531 & 1 & $\\dots$ \\\\\n",
       "\t12 & 0.0973 & 1 & 0.0664158 & 1 & $\\dots$ \\\\\n",
       "\t13 & 0.1303 & 1 & 0.0663785 & 1 & $\\dots$ \\\\\n",
       "\t14 & 0.1638 & 1 & 0.0663412 & 1 & $\\dots$ \\\\\n",
       "\t15 & 0.2152 & 1 & 0.0663039 & 1 & $\\dots$ \\\\\n",
       "\t16 & 0.2525 & 1 & 0.0662666 & 1 & $\\dots$ \\\\\n",
       "\t17 & 0.1899 & 1 & 0.0662293 & 1 & $\\dots$ \\\\\n",
       "\t18 & 0.3133 & 1 & 0.0661919 & 1 & $\\dots$ \\\\\n",
       "\t19 & 0.3244 & 1 & 0.0661546 & 1 & $\\dots$ \\\\\n",
       "\t20 & 0.2987 & 1 & 0.0661173 & 1 & $\\dots$ \\\\\n",
       "\t21 & 0.4015 & 1 & 0.06608 & 1 & $\\dots$ \\\\\n",
       "\t22 & 0.2986 & 1 & 0.0660427 & 1 & $\\dots$ \\\\\n",
       "\t23 & 0.2489 & 1 & 0.0660054 & 1 & $\\dots$ \\\\\n",
       "\t24 & 0.2403 & 1 & 0.0659681 & 1 & $\\dots$ \\\\\n",
       "\t$\\dots$ & $\\dots$ & $\\dots$ & $\\dots$ & $\\dots$ &  \\\\\n",
       "\\end{tabular}\n"
      ],
      "text/plain": [
       "\u001b[1m240×55 DataFrame\u001b[0m\n",
       "\u001b[1m Row \u001b[0m│\u001b[1m onshore_wind_turbine_1 \u001b[0m\u001b[1m biomass_2 \u001b[0m\u001b[1m conventional_hydroelectric_3 \u001b[0m\u001b[1m conven\u001b[0m ⋯\n",
       "     │\u001b[90m Float64                \u001b[0m\u001b[90m Int64     \u001b[0m\u001b[90m Float64                      \u001b[0m\u001b[90m Int64 \u001b[0m ⋯\n",
       "─────┼──────────────────────────────────────────────────────────────────────────\n",
       "   1 │                 0.1844          1                     0.0668263         ⋯\n",
       "   2 │                 0.1263          1                     0.0667889\n",
       "   3 │                 0.0817          1                     0.0667516\n",
       "   4 │                 0.0494          1                     0.0667143\n",
       "   5 │                 0.0344          1                     0.066677          ⋯\n",
       "   6 │                 0.0381          1                     0.0666397\n",
       "   7 │                 0.0428          1                     0.0666024\n",
       "   8 │                 0.0512          1                     0.0665651\n",
       "  ⋮  │           ⋮                 ⋮                   ⋮                       ⋱\n",
       " 234 │                 0.2496          1                     0.0668119         ⋯\n",
       " 235 │                 0.2542          1                     0.0666458\n",
       " 236 │                 0.4159          1                     0.0664798\n",
       " 237 │                 0.547           1                     0.0663137\n",
       " 238 │                 0.5691          1                     0.0661476         ⋯\n",
       " 239 │                 0.5853          1                     0.0659815\n",
       " 240 │                 0.5704          1                     0.0658154\n",
       "\u001b[36m                                                 52 columns and 225 rows omitted\u001b[0m"
      ]
     },
     "metadata": {},
     "output_type": "display_data"
    }
   ],
   "source": [
    "  # Read generator capacity factors by hour (used for variable renewables)\n",
    "  # There is one column here for each resource (row) in the generators DataFrame\n",
    "variability = DataFrame(CSV.File(joinpath(inputs_path, \"Generators_variability.csv\")))\n",
    "  # Drop the first column with row indexes, as these are unecessary\n",
    "variability = variability[:,2:ncol(variability)];\n",
    "# Uncomment this line to explore the data if you wish:\n",
    "# show(variability, allrows=true, allcols=true)"
   ]
  },
  {
   "cell_type": "code",
   "execution_count": 70,
   "metadata": {},
   "outputs": [
    {
     "data": {
      "text/html": [
       "<div><div style = \"float: left;\"><span>6×4 DataFrame</span></div><div style = \"clear: both;\"></div></div><div class = \"data-frame\" style = \"overflow-x: scroll;\"><table class = \"data-frame\" style = \"margin-bottom: 6px;\"><thead><tr class = \"header\"><th class = \"rowNumber\" style = \"font-weight: bold; text-align: right;\">Row</th><th style = \"text-align: left;\">Fuel</th><th style = \"text-align: left;\">Cost_per_MMBtu</th><th style = \"text-align: left;\">CO2_content_tons_per_MMBtu</th><th style = \"text-align: left;\">fuel_indices</th></tr><tr class = \"subheader headerLastRow\"><th class = \"rowNumber\" style = \"font-weight: bold; text-align: right;\"></th><th title = \"String31\" style = \"text-align: left;\">String31</th><th title = \"Float64\" style = \"text-align: left;\">Float64</th><th title = \"Float64\" style = \"text-align: left;\">Float64</th><th title = \"Int64\" style = \"text-align: left;\">Int64</th></tr></thead><tbody><tr><td class = \"rowNumber\" style = \"font-weight: bold; text-align: right;\">1</td><td style = \"text-align: left;\">None</td><td style = \"text-align: right;\">0.0</td><td style = \"text-align: right;\">0.0</td><td style = \"text-align: right;\">1</td></tr><tr><td class = \"rowNumber\" style = \"font-weight: bold; text-align: right;\">2</td><td style = \"text-align: left;\">ercot_coal</td><td style = \"text-align: right;\">1.91</td><td style = \"text-align: right;\">0.09552</td><td style = \"text-align: right;\">2</td></tr><tr><td class = \"rowNumber\" style = \"font-weight: bold; text-align: right;\">3</td><td style = \"text-align: left;\">ercot_naturalgas</td><td style = \"text-align: right;\">3.62</td><td style = \"text-align: right;\">0.05306</td><td style = \"text-align: right;\">3</td></tr><tr><td class = \"rowNumber\" style = \"font-weight: bold; text-align: right;\">4</td><td style = \"text-align: left;\">ercot_uranium</td><td style = \"text-align: right;\">0.71</td><td style = \"text-align: right;\">0.0</td><td style = \"text-align: right;\">4</td></tr><tr><td class = \"rowNumber\" style = \"font-weight: bold; text-align: right;\">5</td><td style = \"text-align: left;\">ercot_naturalgas_ccs90</td><td style = \"text-align: right;\">4.1</td><td style = \"text-align: right;\">0.00531</td><td style = \"text-align: right;\">5</td></tr><tr><td class = \"rowNumber\" style = \"font-weight: bold; text-align: right;\">6</td><td style = \"text-align: left;\">ercot_naturalgas_ccs100</td><td style = \"text-align: right;\">4.15</td><td style = \"text-align: right;\">0.0</td><td style = \"text-align: right;\">6</td></tr></tbody></table></div>"
      ],
      "text/latex": [
       "\\begin{tabular}{r|cccc}\n",
       "\t& Fuel & Cost\\_per\\_MMBtu & CO2\\_content\\_tons\\_per\\_MMBtu & fuel\\_indices\\\\\n",
       "\t\\hline\n",
       "\t& String31 & Float64 & Float64 & Int64\\\\\n",
       "\t\\hline\n",
       "\t1 & None & 0.0 & 0.0 & 1 \\\\\n",
       "\t2 & ercot\\_coal & 1.91 & 0.09552 & 2 \\\\\n",
       "\t3 & ercot\\_naturalgas & 3.62 & 0.05306 & 3 \\\\\n",
       "\t4 & ercot\\_uranium & 0.71 & 0.0 & 4 \\\\\n",
       "\t5 & ercot\\_naturalgas\\_ccs90 & 4.1 & 0.00531 & 5 \\\\\n",
       "\t6 & ercot\\_naturalgas\\_ccs100 & 4.15 & 0.0 & 6 \\\\\n",
       "\\end{tabular}\n"
      ],
      "text/plain": [
       "\u001b[1m6×4 DataFrame\u001b[0m\n",
       "\u001b[1m Row \u001b[0m│\u001b[1m Fuel                    \u001b[0m\u001b[1m Cost_per_MMBtu \u001b[0m\u001b[1m CO2_content_tons_per_MMBtu \u001b[0m\u001b[1m fu\u001b[0m ⋯\n",
       "     │\u001b[90m String31                \u001b[0m\u001b[90m Float64        \u001b[0m\u001b[90m Float64                    \u001b[0m\u001b[90m In\u001b[0m ⋯\n",
       "─────┼──────────────────────────────────────────────────────────────────────────\n",
       "   1 │ None                               0.0                      0.0         ⋯\n",
       "   2 │ ercot_coal                         1.91                     0.09552\n",
       "   3 │ ercot_naturalgas                   3.62                     0.05306\n",
       "   4 │ ercot_uranium                      0.71                     0.0\n",
       "   5 │ ercot_naturalgas_ccs90             4.1                      0.00531     ⋯\n",
       "   6 │ ercot_naturalgas_ccs100            4.15                     0.0\n",
       "\u001b[36m                                                                1 column omitted\u001b[0m"
      ]
     },
     "metadata": {},
     "output_type": "display_data"
    }
   ],
   "source": [
    "  # Read fuels data\n",
    "fuels = DataFrame(CSV.File(joinpath(inputs_path, \"Fuels_data.csv\")));\n",
    "# Uncomment this line to explore the data if you wish:\n",
    "# show(fuels, allrows=true, allcols=true);"
   ]
  },
  {
   "cell_type": "code",
   "execution_count": 71,
   "metadata": {},
   "outputs": [
    {
     "data": {
      "text/plain": [
       "2-element Vector{Int64}:\n",
       " 1\n",
       " 2"
      ]
     },
     "metadata": {},
     "output_type": "display_data"
    }
   ],
   "source": [
    "  # Read network data\n",
    "network = DataFrame(CSV.File(joinpath(inputs_path, \"Network.csv\")));\n",
    "  #Again, there is a lot of entries in here we will not use (formatted for GenX inputs), so let's select what we want\n",
    "  # Array of network zones (z1, z2, z3)\n",
    "zones = collect(skipmissing(network.Network_zones))\n",
    "  # Network map showing lines connecting zones\n",
    "lines = select(network[1:2,:], \n",
    "    :Network_lines, :z1, :z2, :z3, \n",
    "    :Line_Max_Flow_MW, :Line_Min_Flow_MW, :Line_Loss_Percentage, \n",
    "    :Line_Max_Reinforcement_MW, :Line_Reinforcement_Cost_per_MW_yr)\n",
    "  # Add fixed O&M costs for lines = 1/20 of reinforcement cost\n",
    "lines.Line_Fixed_Cost_per_MW_yr = lines.Line_Reinforcement_Cost_per_MW_yr./20\n",
    "  # Set of all lines\n",
    "L = convert(Array{Int64}, lines.Network_lines);\n",
    "# Uncomment this line to explore the data if you wish:\n",
    "# show(lines, allrows=true, allcols=true)"
   ]
  },
  {
   "cell_type": "code",
   "execution_count": 72,
   "metadata": {},
   "outputs": [],
   "source": [
    "# Calculate generator (and storage) total variable costs, start-up costs, \n",
    "# and associated CO2 per MWh and per start\n",
    "generators.Var_Cost = zeros(Float64, size(G,1))\n",
    "generators.CO2_Rate = zeros(Float64, size(G,1))\n",
    "generators.Start_Cost = zeros(Float64, size(G,1))\n",
    "generators.CO2_Per_Start = zeros(Float64, size(G,1))\n",
    "for g in G\n",
    "    # Variable cost ($/MWh) = variable O&M ($/MWh) + fuel cost ($/MMBtu) * heat rate (MMBtu/MWh)\n",
    "    generators.Var_Cost[g] = generators.Var_OM_cost_per_MWh[g] +\n",
    "        fuels[fuels.Fuel.==generators.Fuel[g],:Cost_per_MMBtu][1]*generators.Heat_rate_MMBTU_per_MWh[g]\n",
    "    # CO2 emissions rate (tCO2/MWh) = fuel CO2 content (tCO2/MMBtu) * heat rate (MMBtu/MWh)\n",
    "    generators.CO2_Rate[g] = fuels[fuels.Fuel.==generators.Fuel[g],:CO2_content_tons_per_MMBtu][1]*generators.Heat_rate_MMBTU_per_MWh[g]\n",
    "    # Start-up cost ($/start/MW) = start up O&M cost ($/start/MW) + fuel cost ($/MMBtu) * start up fuel use (MMBtu/start/MW) \n",
    "    generators.Start_Cost[g] = generators.Start_cost_per_MW[g] +\n",
    "        fuels[fuels.Fuel.==generators.Fuel[g],:Cost_per_MMBtu][1]*generators.Start_fuel_MMBTU_per_MW[g]\n",
    "    # Start-up CO2 emissions (tCO2/start/MW) = fuel CO2 content (tCO2/MMBtu) * start up fuel use (MMBtu/start/MW) \n",
    "    generators.CO2_Per_Start[g] = fuels[fuels.Fuel.==generators.Fuel[g],:CO2_content_tons_per_MMBtu][1]*generators.Start_fuel_MMBTU_per_MW[g]\n",
    "end\n",
    "# Note: after this, we don't need the fuels Data Frame again..."
   ]
  },
  {
   "cell_type": "code",
   "execution_count": 73,
   "metadata": {},
   "outputs": [],
   "source": [
    "# Drop hydropower and biomass plants from generators set for simplicity \n",
    "# (these are a small share of total ERCOT capacity, ~500 MW\n",
    "G = intersect(generators.R_ID[.!(generators.HYDRO.==1)],G)\n",
    "G = intersect(generators.R_ID[.!(generators.NDISP.==1)],G);"
   ]
  },
  {
   "cell_type": "markdown",
   "metadata": {},
   "source": [
    "## SETS"
   ]
  },
  {
   "cell_type": "code",
   "execution_count": 74,
   "metadata": {},
   "outputs": [],
   "source": [
    "# Organize all of our data in one place...\n",
    "# This code block is unecessary, but after all of the input steps above\n",
    "# writing it all here helps us see all of the sets and parameter DataFrames.\n",
    "\n",
    "# SETS\n",
    " # By naming convention, all sets are single capital letters\n",
    "G  # Set of all generators\n",
    "S  # Set of all non-served energy (price responsive demand) segments\n",
    "P  # Set of time sample sub-periods (e.g. sample days or weeks)\n",
    "W  # Sub period cluster weights = number of periods (days/weeks) represented by each sample period\n",
    "T  # Set of all time steps \n",
    "Z  # Set of zones (by number)\n",
    "L;  # Set of all transmission lines (or paths)"
   ]
  },
  {
   "cell_type": "markdown",
   "metadata": {},
   "source": [
    "## PARAMETERS"
   ]
  },
  {
   "cell_type": "code",
   "execution_count": 75,
   "metadata": {},
   "outputs": [],
   "source": [
    "# PARAMETER DataFrames\n",
    "  # By naming convention, all parameter data frames are lowercase\n",
    "nse         # non-served energy parameters (by s in S)\n",
    "generators  # generation (and storage) parameters (by g in G)\n",
    "demand      # demand parameters (by t in T)\n",
    "zones       # network zones (by z in Z)\n",
    "lines;      # transmission lines (by l in L)"
   ]
  },
  {
   "cell_type": "markdown",
   "metadata": {},
   "source": [
    "## SUBSETS"
   ]
  },
  {
   "cell_type": "code",
   "execution_count": 76,
   "metadata": {},
   "outputs": [
    {
     "data": {
      "text/plain": [
       "29-element Vector{Int64}:\n",
       "  1\n",
       "  9\n",
       " 11\n",
       " 15\n",
       " 16\n",
       " 20\n",
       " 21\n",
       " 22\n",
       " 23\n",
       " 24\n",
       "  ⋮\n",
       " 45\n",
       " 46\n",
       " 47\n",
       " 48\n",
       " 49\n",
       " 50\n",
       " 51\n",
       " 52\n",
       " 53"
      ]
     },
     "metadata": {},
     "output_type": "display_data"
    }
   ],
   "source": [
    "#SUBSETS\n",
    "  # By naming convention, all subsets are UPPERCASE\n",
    "\n",
    "  # Subset of G of all thermal resources subject to unit commitment constraints\n",
    "UC = intersect(generators.R_ID[generators.Commit.==1], G)\n",
    "  # Subset of G NOT subject to unit commitment constraints\n",
    "ED = intersect(generators.R_ID[.!(generators.Commit.==1)], G)\n",
    "  # Subset of G of all storage resources\n",
    "STOR = intersect(generators.R_ID[generators.STOR.>=1], G)\n",
    "  # Subset of G of all variable renewable resources\n",
    "VRE = intersect(generators.R_ID[generators.DISP.==1], G)\n",
    "  # Subset of all new build resources\n",
    "NEW = intersect(generators.R_ID[generators.New_Build.==1], G)\n",
    "  # Subset of all existing resources\n",
    "OLD = intersect(generators.R_ID[.!(generators.New_Build.==1)], G)\n",
    "  # Subset of all RPS qualifying resources\n",
    "RPS = intersect(generators.R_ID[generators.RPS.==1], G);\n",
    "\n",
    "# Notes: findall(x->x in A, B) also returns the intersection of two vectors A and B and could be used here"
   ]
  },
  {
   "cell_type": "markdown",
   "metadata": {},
   "source": [
    "## DEFINE MODEL"
   ]
  },
  {
   "cell_type": "code",
   "execution_count": 77,
   "metadata": {},
   "outputs": [],
   "source": [
    "# LP model using HiGHS solver\n",
    "Expansion_Model =  Model(HiGHS.Optimizer);"
   ]
  },
  {
   "cell_type": "markdown",
   "metadata": {},
   "source": [
    "## DECISION VARIABLES"
   ]
  },
  {
   "cell_type": "code",
   "execution_count": 78,
   "metadata": {},
   "outputs": [],
   "source": [
    "# DECISION VARIABLES\n",
    "  # By naming convention, all decision variables start with v and then are in UPPER_SNAKE_CASE\n",
    "\n",
    "# Capacity decision variables\n",
    "@variables(Expansion_Model, begin\n",
    "        vCAP[g in G]            >= 0     # power capacity (MW)\n",
    "        vRET_CAP[g in OLD]      >= 0     # retirement of power capacity (MW)\n",
    "        vNEW_CAP[g in NEW]      >= 0     # new build power capacity (MW)\n",
    "        \n",
    "        vE_CAP[g in STOR]       >= 0     # storage energy capacity (MWh)\n",
    "        vRET_E_CAP[g in intersect(STOR, OLD)]   >= 0     # retirement of storage energy capacity (MWh)\n",
    "        vNEW_E_CAP[g in intersect(STOR, NEW)]   >= 0     # new build storage energy capacity (MWh)\n",
    "        \n",
    "        vT_CAP[l in L]          >= 0     # transmission capacity (MW)\n",
    "        vRET_T_CAP[l in L]      >= 0     # retirement of transmission capacity (MW)\n",
    "        vNEW_T_CAP[l in L]      >= 0     # new build transmission capacity (MW)\n",
    "end)\n",
    "\n",
    "# Set upper bounds on capacity for renewable resources \n",
    "# (which are limited in each resource 'cluster')\n",
    "for g in NEW[generators[NEW,:Max_Cap_MW].>0]\n",
    "    set_upper_bound(vNEW_CAP[g], generators.Max_Cap_MW[g])\n",
    "end\n",
    "\n",
    "# Set upper bounds on transmission capacity expansion\n",
    "for l in L\n",
    "    set_upper_bound(vNEW_T_CAP[l], lines.Line_Max_Reinforcement_MW[l])\n",
    "end\n",
    "\n",
    "# Operational decision variables\n",
    "@variables(Expansion_Model, begin\n",
    "        vGEN[T,G]       >= 0  # Power generation (MW)\n",
    "        vCHARGE[T,STOR] >= 0  # Power charging (MW)\n",
    "        vSOC[T,STOR]    >= 0  # Energy storage state of charge (MWh)\n",
    "        vNSE[T,S,Z]     >= 0  # Non-served energy/demand curtailment (MW)\n",
    "        vFLOW[T,L]      # Transmission line flow (MW); \n",
    "          # note line flow is positive if flowing\n",
    "          # from source node (indicated by 1 in zone column for that line) \n",
    "          # to sink node (indicated by -1 in zone column for that line); \n",
    "          # flow is negative if flowing from sink to source.\n",
    "end);"
   ]
  },
  {
   "cell_type": "markdown",
   "metadata": {},
   "source": [
    "## CONSTRAINTS"
   ]
  },
  {
   "cell_type": "code",
   "execution_count": 79,
   "metadata": {},
   "outputs": [
    {
     "data": {
      "text/plain": [
       "2-dimensional DenseAxisArray{ConstraintRef{Model, MathOptInterface.ConstraintIndex{MathOptInterface.ScalarAffineFunction{Float64}, MathOptInterface.EqualTo{Float64}}, ScalarShape},2,...} with index sets:\n",
       "    Dimension 1, [1, 2, 3, 4, 5, 6, 7, 8, 9, 10  …  231, 232, 233, 234, 235, 236, 237, 238, 239, 240]\n",
       "    Dimension 2, [1, 2, 3]\n",
       "And data, a 240×3 Matrix{ConstraintRef{Model, MathOptInterface.ConstraintIndex{MathOptInterface.ScalarAffineFunction{Float64}, MathOptInterface.EqualTo{Float64}}, ScalarShape}}:\n",
       " cDemandBalance[1,1] : vGEN[1,1] + vGEN[1,17] + vGEN[1,18] + vGEN[1,19] + vGEN[1,20] + vGEN[1,21] + vGEN[1,22] + vGEN[1,23] + vGEN[1,24] + vGEN[1,25] + vGEN[1,26] + vGEN[1,27] + vGEN[1,28] - vCHARGE[1,27] + vNSE[1,1,1] + vNSE[1,2,1] - vFLOW[1,1] = 0                                      …  cDemandBalance[1,3] : vGEN[1,12] + vGEN[1,13] + vGEN[1,14] + vGEN[1,15] + vGEN[1,16] + vGEN[1,42] + vGEN[1,43] + vGEN[1,44] + vGEN[1,45] + vGEN[1,46] + vGEN[1,47] + vGEN[1,48] + vGEN[1,49] + vGEN[1,50] + vGEN[1,51] + vGEN[1,52] + vGEN[1,53] + vGEN[1,54] + vGEN[1,55] - vCHARGE[1,54] + vNSE[1,1,3] + vNSE[1,2,3] + vFLOW[1,1] + vFLOW[1,2] = 3326\n",
       " cDemandBalance[2,1] : vGEN[2,1] + vGEN[2,17] + vGEN[2,18] + vGEN[2,19] + vGEN[2,20] + vGEN[2,21] + vGEN[2,22] + vGEN[2,23] + vGEN[2,24] + vGEN[2,25] + vGEN[2,26] + vGEN[2,27] + vGEN[2,28] - vCHARGE[2,27] + vNSE[2,1,1] + vNSE[2,2,1] - vFLOW[2,1] = 0                                         cDemandBalance[2,3] : vGEN[2,12] + vGEN[2,13] + vGEN[2,14] + vGEN[2,15] + vGEN[2,16] + vGEN[2,42] + vGEN[2,43] + vGEN[2,44] + vGEN[2,45] + vGEN[2,46] + vGEN[2,47] + vGEN[2,48] + vGEN[2,49] + vGEN[2,50] + vGEN[2,51] + vGEN[2,52] + vGEN[2,53] + vGEN[2,54] + vGEN[2,55] - vCHARGE[2,54] + vNSE[2,1,3] + vNSE[2,2,3] + vFLOW[2,1] + vFLOW[2,2] = 3298\n",
       " cDemandBalance[3,1] : vGEN[3,1] + vGEN[3,17] + vGEN[3,18] + vGEN[3,19] + vGEN[3,20] + vGEN[3,21] + vGEN[3,22] + vGEN[3,23] + vGEN[3,24] + vGEN[3,25] + vGEN[3,26] + vGEN[3,27] + vGEN[3,28] - vCHARGE[3,27] + vNSE[3,1,1] + vNSE[3,2,1] - vFLOW[3,1] = 0                                         cDemandBalance[3,3] : vGEN[3,12] + vGEN[3,13] + vGEN[3,14] + vGEN[3,15] + vGEN[3,16] + vGEN[3,42] + vGEN[3,43] + vGEN[3,44] + vGEN[3,45] + vGEN[3,46] + vGEN[3,47] + vGEN[3,48] + vGEN[3,49] + vGEN[3,50] + vGEN[3,51] + vGEN[3,52] + vGEN[3,53] + vGEN[3,54] + vGEN[3,55] - vCHARGE[3,54] + vNSE[3,1,3] + vNSE[3,2,3] + vFLOW[3,1] + vFLOW[3,2] = 3311\n",
       " cDemandBalance[4,1] : vGEN[4,1] + vGEN[4,17] + vGEN[4,18] + vGEN[4,19] + vGEN[4,20] + vGEN[4,21] + vGEN[4,22] + vGEN[4,23] + vGEN[4,24] + vGEN[4,25] + vGEN[4,26] + vGEN[4,27] + vGEN[4,28] - vCHARGE[4,27] + vNSE[4,1,1] + vNSE[4,2,1] - vFLOW[4,1] = 0                                         cDemandBalance[4,3] : vGEN[4,12] + vGEN[4,13] + vGEN[4,14] + vGEN[4,15] + vGEN[4,16] + vGEN[4,42] + vGEN[4,43] + vGEN[4,44] + vGEN[4,45] + vGEN[4,46] + vGEN[4,47] + vGEN[4,48] + vGEN[4,49] + vGEN[4,50] + vGEN[4,51] + vGEN[4,52] + vGEN[4,53] + vGEN[4,54] + vGEN[4,55] - vCHARGE[4,54] + vNSE[4,1,3] + vNSE[4,2,3] + vFLOW[4,1] + vFLOW[4,2] = 3363\n",
       " cDemandBalance[5,1] : vGEN[5,1] + vGEN[5,17] + vGEN[5,18] + vGEN[5,19] + vGEN[5,20] + vGEN[5,21] + vGEN[5,22] + vGEN[5,23] + vGEN[5,24] + vGEN[5,25] + vGEN[5,26] + vGEN[5,27] + vGEN[5,28] - vCHARGE[5,27] + vNSE[5,1,1] + vNSE[5,2,1] - vFLOW[5,1] = 0                                         cDemandBalance[5,3] : vGEN[5,12] + vGEN[5,13] + vGEN[5,14] + vGEN[5,15] + vGEN[5,16] + vGEN[5,42] + vGEN[5,43] + vGEN[5,44] + vGEN[5,45] + vGEN[5,46] + vGEN[5,47] + vGEN[5,48] + vGEN[5,49] + vGEN[5,50] + vGEN[5,51] + vGEN[5,52] + vGEN[5,53] + vGEN[5,54] + vGEN[5,55] - vCHARGE[5,54] + vNSE[5,1,3] + vNSE[5,2,3] + vFLOW[5,1] + vFLOW[5,2] = 3377\n",
       " cDemandBalance[6,1] : vGEN[6,1] + vGEN[6,17] + vGEN[6,18] + vGEN[6,19] + vGEN[6,20] + vGEN[6,21] + vGEN[6,22] + vGEN[6,23] + vGEN[6,24] + vGEN[6,25] + vGEN[6,26] + vGEN[6,27] + vGEN[6,28] - vCHARGE[6,27] + vNSE[6,1,1] + vNSE[6,2,1] - vFLOW[6,1] = 0                                      …  cDemandBalance[6,3] : vGEN[6,12] + vGEN[6,13] + vGEN[6,14] + vGEN[6,15] + vGEN[6,16] + vGEN[6,42] + vGEN[6,43] + vGEN[6,44] + vGEN[6,45] + vGEN[6,46] + vGEN[6,47] + vGEN[6,48] + vGEN[6,49] + vGEN[6,50] + vGEN[6,51] + vGEN[6,52] + vGEN[6,53] + vGEN[6,54] + vGEN[6,55] - vCHARGE[6,54] + vNSE[6,1,3] + vNSE[6,2,3] + vFLOW[6,1] + vFLOW[6,2] = 3531\n",
       " cDemandBalance[7,1] : vGEN[7,1] + vGEN[7,17] + vGEN[7,18] + vGEN[7,19] + vGEN[7,20] + vGEN[7,21] + vGEN[7,22] + vGEN[7,23] + vGEN[7,24] + vGEN[7,25] + vGEN[7,26] + vGEN[7,27] + vGEN[7,28] - vCHARGE[7,27] + vNSE[7,1,1] + vNSE[7,2,1] - vFLOW[7,1] = 0                                         cDemandBalance[7,3] : vGEN[7,12] + vGEN[7,13] + vGEN[7,14] + vGEN[7,15] + vGEN[7,16] + vGEN[7,42] + vGEN[7,43] + vGEN[7,44] + vGEN[7,45] + vGEN[7,46] + vGEN[7,47] + vGEN[7,48] + vGEN[7,49] + vGEN[7,50] + vGEN[7,51] + vGEN[7,52] + vGEN[7,53] + vGEN[7,54] + vGEN[7,55] - vCHARGE[7,54] + vNSE[7,1,3] + vNSE[7,2,3] + vFLOW[7,1] + vFLOW[7,2] = 3745\n",
       " cDemandBalance[8,1] : vGEN[8,1] + vGEN[8,17] + vGEN[8,18] + vGEN[8,19] + vGEN[8,20] + vGEN[8,21] + vGEN[8,22] + vGEN[8,23] + vGEN[8,24] + vGEN[8,25] + vGEN[8,26] + vGEN[8,27] + vGEN[8,28] - vCHARGE[8,27] + vNSE[8,1,1] + vNSE[8,2,1] - vFLOW[8,1] = 0                                         cDemandBalance[8,3] : vGEN[8,12] + vGEN[8,13] + vGEN[8,14] + vGEN[8,15] + vGEN[8,16] + vGEN[8,42] + vGEN[8,43] + vGEN[8,44] + vGEN[8,45] + vGEN[8,46] + vGEN[8,47] + vGEN[8,48] + vGEN[8,49] + vGEN[8,50] + vGEN[8,51] + vGEN[8,52] + vGEN[8,53] + vGEN[8,54] + vGEN[8,55] - vCHARGE[8,54] + vNSE[8,1,3] + vNSE[8,2,3] + vFLOW[8,1] + vFLOW[8,2] = 3926\n",
       " cDemandBalance[9,1] : vGEN[9,1] + vGEN[9,17] + vGEN[9,18] + vGEN[9,19] + vGEN[9,20] + vGEN[9,21] + vGEN[9,22] + vGEN[9,23] + vGEN[9,24] + vGEN[9,25] + vGEN[9,26] + vGEN[9,27] + vGEN[9,28] - vCHARGE[9,27] + vNSE[9,1,1] + vNSE[9,2,1] - vFLOW[9,1] = 0                                         cDemandBalance[9,3] : vGEN[9,12] + vGEN[9,13] + vGEN[9,14] + vGEN[9,15] + vGEN[9,16] + vGEN[9,42] + vGEN[9,43] + vGEN[9,44] + vGEN[9,45] + vGEN[9,46] + vGEN[9,47] + vGEN[9,48] + vGEN[9,49] + vGEN[9,50] + vGEN[9,51] + vGEN[9,52] + vGEN[9,53] + vGEN[9,54] + vGEN[9,55] - vCHARGE[9,54] + vNSE[9,1,3] + vNSE[9,2,3] + vFLOW[9,1] + vFLOW[9,2] = 4120\n",
       " cDemandBalance[10,1] : vGEN[10,1] + vGEN[10,17] + vGEN[10,18] + vGEN[10,19] + vGEN[10,20] + vGEN[10,21] + vGEN[10,22] + vGEN[10,23] + vGEN[10,24] + vGEN[10,25] + vGEN[10,26] + vGEN[10,27] + vGEN[10,28] - vCHARGE[10,27] + vNSE[10,1,1] + vNSE[10,2,1] - vFLOW[10,1] = 0                       cDemandBalance[10,3] : vGEN[10,12] + vGEN[10,13] + vGEN[10,14] + vGEN[10,15] + vGEN[10,16] + vGEN[10,42] + vGEN[10,43] + vGEN[10,44] + vGEN[10,45] + vGEN[10,46] + vGEN[10,47] + vGEN[10,48] + vGEN[10,49] + vGEN[10,50] + vGEN[10,51] + vGEN[10,52] + vGEN[10,53] + vGEN[10,54] + vGEN[10,55] - vCHARGE[10,54] + vNSE[10,1,3] + vNSE[10,2,3] + vFLOW[10,1] + vFLOW[10,2] = 4300\n",
       " ⋮                                                                                                                                                                                                                                                                                             ⋱  \n",
       " cDemandBalance[232,1] : vGEN[232,1] + vGEN[232,17] + vGEN[232,18] + vGEN[232,19] + vGEN[232,20] + vGEN[232,21] + vGEN[232,22] + vGEN[232,23] + vGEN[232,24] + vGEN[232,25] + vGEN[232,26] + vGEN[232,27] + vGEN[232,28] - vCHARGE[232,27] + vNSE[232,1,1] + vNSE[232,2,1] - vFLOW[232,1] = 0     cDemandBalance[232,3] : vGEN[232,12] + vGEN[232,13] + vGEN[232,14] + vGEN[232,15] + vGEN[232,16] + vGEN[232,42] + vGEN[232,43] + vGEN[232,44] + vGEN[232,45] + vGEN[232,46] + vGEN[232,47] + vGEN[232,48] + vGEN[232,49] + vGEN[232,50] + vGEN[232,51] + vGEN[232,52] + vGEN[232,53] + vGEN[232,54] + vGEN[232,55] - vCHARGE[232,54] + vNSE[232,1,3] + vNSE[232,2,3] + vFLOW[232,1] + vFLOW[232,2] = 5357\n",
       " cDemandBalance[233,1] : vGEN[233,1] + vGEN[233,17] + vGEN[233,18] + vGEN[233,19] + vGEN[233,20] + vGEN[233,21] + vGEN[233,22] + vGEN[233,23] + vGEN[233,24] + vGEN[233,25] + vGEN[233,26] + vGEN[233,27] + vGEN[233,28] - vCHARGE[233,27] + vNSE[233,1,1] + vNSE[233,2,1] - vFLOW[233,1] = 0     cDemandBalance[233,3] : vGEN[233,12] + vGEN[233,13] + vGEN[233,14] + vGEN[233,15] + vGEN[233,16] + vGEN[233,42] + vGEN[233,43] + vGEN[233,44] + vGEN[233,45] + vGEN[233,46] + vGEN[233,47] + vGEN[233,48] + vGEN[233,49] + vGEN[233,50] + vGEN[233,51] + vGEN[233,52] + vGEN[233,53] + vGEN[233,54] + vGEN[233,55] - vCHARGE[233,54] + vNSE[233,1,3] + vNSE[233,2,3] + vFLOW[233,1] + vFLOW[233,2] = 5246\n",
       " cDemandBalance[234,1] : vGEN[234,1] + vGEN[234,17] + vGEN[234,18] + vGEN[234,19] + vGEN[234,20] + vGEN[234,21] + vGEN[234,22] + vGEN[234,23] + vGEN[234,24] + vGEN[234,25] + vGEN[234,26] + vGEN[234,27] + vGEN[234,28] - vCHARGE[234,27] + vNSE[234,1,1] + vNSE[234,2,1] - vFLOW[234,1] = 0     cDemandBalance[234,3] : vGEN[234,12] + vGEN[234,13] + vGEN[234,14] + vGEN[234,15] + vGEN[234,16] + vGEN[234,42] + vGEN[234,43] + vGEN[234,44] + vGEN[234,45] + vGEN[234,46] + vGEN[234,47] + vGEN[234,48] + vGEN[234,49] + vGEN[234,50] + vGEN[234,51] + vGEN[234,52] + vGEN[234,53] + vGEN[234,54] + vGEN[234,55] - vCHARGE[234,54] + vNSE[234,1,3] + vNSE[234,2,3] + vFLOW[234,1] + vFLOW[234,2] = 5064\n",
       " cDemandBalance[235,1] : vGEN[235,1] + vGEN[235,17] + vGEN[235,18] + vGEN[235,19] + vGEN[235,20] + vGEN[235,21] + vGEN[235,22] + vGEN[235,23] + vGEN[235,24] + vGEN[235,25] + vGEN[235,26] + vGEN[235,27] + vGEN[235,28] - vCHARGE[235,27] + vNSE[235,1,1] + vNSE[235,2,1] - vFLOW[235,1] = 0     cDemandBalance[235,3] : vGEN[235,12] + vGEN[235,13] + vGEN[235,14] + vGEN[235,15] + vGEN[235,16] + vGEN[235,42] + vGEN[235,43] + vGEN[235,44] + vGEN[235,45] + vGEN[235,46] + vGEN[235,47] + vGEN[235,48] + vGEN[235,49] + vGEN[235,50] + vGEN[235,51] + vGEN[235,52] + vGEN[235,53] + vGEN[235,54] + vGEN[235,55] - vCHARGE[235,54] + vNSE[235,1,3] + vNSE[235,2,3] + vFLOW[235,1] + vFLOW[235,2] = 4920\n",
       " cDemandBalance[236,1] : vGEN[236,1] + vGEN[236,17] + vGEN[236,18] + vGEN[236,19] + vGEN[236,20] + vGEN[236,21] + vGEN[236,22] + vGEN[236,23] + vGEN[236,24] + vGEN[236,25] + vGEN[236,26] + vGEN[236,27] + vGEN[236,28] - vCHARGE[236,27] + vNSE[236,1,1] + vNSE[236,2,1] - vFLOW[236,1] = 0  …  cDemandBalance[236,3] : vGEN[236,12] + vGEN[236,13] + vGEN[236,14] + vGEN[236,15] + vGEN[236,16] + vGEN[236,42] + vGEN[236,43] + vGEN[236,44] + vGEN[236,45] + vGEN[236,46] + vGEN[236,47] + vGEN[236,48] + vGEN[236,49] + vGEN[236,50] + vGEN[236,51] + vGEN[236,52] + vGEN[236,53] + vGEN[236,54] + vGEN[236,55] - vCHARGE[236,54] + vNSE[236,1,3] + vNSE[236,2,3] + vFLOW[236,1] + vFLOW[236,2] = 4627\n",
       " cDemandBalance[237,1] : vGEN[237,1] + vGEN[237,17] + vGEN[237,18] + vGEN[237,19] + vGEN[237,20] + vGEN[237,21] + vGEN[237,22] + vGEN[237,23] + vGEN[237,24] + vGEN[237,25] + vGEN[237,26] + vGEN[237,27] + vGEN[237,28] - vCHARGE[237,27] + vNSE[237,1,1] + vNSE[237,2,1] - vFLOW[237,1] = 0     cDemandBalance[237,3] : vGEN[237,12] + vGEN[237,13] + vGEN[237,14] + vGEN[237,15] + vGEN[237,16] + vGEN[237,42] + vGEN[237,43] + vGEN[237,44] + vGEN[237,45] + vGEN[237,46] + vGEN[237,47] + vGEN[237,48] + vGEN[237,49] + vGEN[237,50] + vGEN[237,51] + vGEN[237,52] + vGEN[237,53] + vGEN[237,54] + vGEN[237,55] - vCHARGE[237,54] + vNSE[237,1,3] + vNSE[237,2,3] + vFLOW[237,1] + vFLOW[237,2] = 4276\n",
       " cDemandBalance[238,1] : vGEN[238,1] + vGEN[238,17] + vGEN[238,18] + vGEN[238,19] + vGEN[238,20] + vGEN[238,21] + vGEN[238,22] + vGEN[238,23] + vGEN[238,24] + vGEN[238,25] + vGEN[238,26] + vGEN[238,27] + vGEN[238,28] - vCHARGE[238,27] + vNSE[238,1,1] + vNSE[238,2,1] - vFLOW[238,1] = 0     cDemandBalance[238,3] : vGEN[238,12] + vGEN[238,13] + vGEN[238,14] + vGEN[238,15] + vGEN[238,16] + vGEN[238,42] + vGEN[238,43] + vGEN[238,44] + vGEN[238,45] + vGEN[238,46] + vGEN[238,47] + vGEN[238,48] + vGEN[238,49] + vGEN[238,50] + vGEN[238,51] + vGEN[238,52] + vGEN[238,53] + vGEN[238,54] + vGEN[238,55] - vCHARGE[238,54] + vNSE[238,1,3] + vNSE[238,2,3] + vFLOW[238,1] + vFLOW[238,2] = 3990\n",
       " cDemandBalance[239,1] : vGEN[239,1] + vGEN[239,17] + vGEN[239,18] + vGEN[239,19] + vGEN[239,20] + vGEN[239,21] + vGEN[239,22] + vGEN[239,23] + vGEN[239,24] + vGEN[239,25] + vGEN[239,26] + vGEN[239,27] + vGEN[239,28] - vCHARGE[239,27] + vNSE[239,1,1] + vNSE[239,2,1] - vFLOW[239,1] = 0     cDemandBalance[239,3] : vGEN[239,12] + vGEN[239,13] + vGEN[239,14] + vGEN[239,15] + vGEN[239,16] + vGEN[239,42] + vGEN[239,43] + vGEN[239,44] + vGEN[239,45] + vGEN[239,46] + vGEN[239,47] + vGEN[239,48] + vGEN[239,49] + vGEN[239,50] + vGEN[239,51] + vGEN[239,52] + vGEN[239,53] + vGEN[239,54] + vGEN[239,55] - vCHARGE[239,54] + vNSE[239,1,3] + vNSE[239,2,3] + vFLOW[239,1] + vFLOW[239,2] = 3792\n",
       " cDemandBalance[240,1] : vGEN[240,1] + vGEN[240,17] + vGEN[240,18] + vGEN[240,19] + vGEN[240,20] + vGEN[240,21] + vGEN[240,22] + vGEN[240,23] + vGEN[240,24] + vGEN[240,25] + vGEN[240,26] + vGEN[240,27] + vGEN[240,28] - vCHARGE[240,27] + vNSE[240,1,1] + vNSE[240,2,1] - vFLOW[240,1] = 0     cDemandBalance[240,3] : vGEN[240,12] + vGEN[240,13] + vGEN[240,14] + vGEN[240,15] + vGEN[240,16] + vGEN[240,42] + vGEN[240,43] + vGEN[240,44] + vGEN[240,45] + vGEN[240,46] + vGEN[240,47] + vGEN[240,48] + vGEN[240,49] + vGEN[240,50] + vGEN[240,51] + vGEN[240,52] + vGEN[240,53] + vGEN[240,54] + vGEN[240,55] - vCHARGE[240,54] + vNSE[240,1,3] + vNSE[240,2,3] + vFLOW[240,1] + vFLOW[240,2] = 3641"
      ]
     },
     "metadata": {},
     "output_type": "display_data"
    }
   ],
   "source": [
    "# CONSTRAINTS\n",
    "  # By naming convention, all constraints start with c and then are TitleCase\n",
    "\n",
    "# (1) Supply-demand balance constraint for all time steps and zones\n",
    "@constraint(Expansion_Model, cDemandBalance[t in T, z in Z], \n",
    "        sum(vGEN[t,g] for g in intersect(generators[generators.zone.==z,:R_ID],G)) +\n",
    "        sum(vNSE[t,s,z] for s in S) - \n",
    "        sum(vCHARGE[t,g] for g in intersect(generators[generators.zone.==z,:R_ID],STOR)) -\n",
    "        demand[t,z] - \n",
    "        sum(lines[l,Symbol(string(\"z\",z))] * vFLOW[t,l] for l in L) == 0\n",
    ");\n",
    "# Notes: \n",
    "# 1. intersect(generators[generators.zone.==z,:R_ID],G) is the subset of all \n",
    "# generators/storage located at zone z in Z.\n",
    "# 2. sum(lines[l,Symbol(string(\"z\",z))].*FLOW[l,t], l in L) is the net sum of \n",
    "# all flows out of zone z (net exports) \n",
    "# 3. We use Symbol(string(\"z\",z)) to convert the numerical reference to z in Z\n",
    "# to a Symbol in set {:z1, :z2, :z3} as this is the reference to the columns\n",
    "# in the lines data for zone z indicating which whether z is a source or sink\n",
    "# for each line l in L."
   ]
  },
  {
   "cell_type": "code",
   "execution_count": 80,
   "metadata": {},
   "outputs": [],
   "source": [
    "# (2-6) Capacitated constraints:\n",
    "@constraints(Expansion_Model, begin\n",
    "# (2) Max power constraints for all time steps and all generators/storage\n",
    "    cMaxPower[t in T, g in G], vGEN[t,g] <= variability[t,g]*vCAP[g]\n",
    "# (3) Max charge constraints for all time steps and all storage resources\n",
    "    cMaxCharge[t in T, g in STOR], vCHARGE[t,g] <= vCAP[g]\n",
    "# (4) Max state of charge constraints for all time steps and all storage resources\n",
    "    cMaxSOC[t in T, g in STOR], vSOC[t,g] <= vE_CAP[g]\n",
    "# (5) Max non-served energy constraints for all time steps and all segments and all zones\n",
    "    cMaxNSE[t in T, s in S, z in Z], vNSE[t,s,z] <= nse.NSE_Max[s]*demand[t,z]\n",
    "# (6a) Max flow constraints for all time steps and all lines\n",
    "    cMaxFlow[t in T, l in L], vFLOW[t,l] <= vT_CAP[l]\n",
    "# (6b) Min flow constraints for all time steps and all lines\n",
    "    cMinFlow[t in T, l in L], vFLOW[t,l] >= -vT_CAP[l]\n",
    "end);"
   ]
  },
  {
   "cell_type": "code",
   "execution_count": 81,
   "metadata": {},
   "outputs": [],
   "source": [
    "# (7-9) Total capacity constraints:\n",
    "@constraints(Expansion_Model, begin\n",
    "# (7a) Total capacity for existing units\n",
    "    cCapOld[g in OLD], vCAP[g] == generators.Existing_Cap_MW[g] - vRET_CAP[g]\n",
    "# (7b) Total capacity for new units\n",
    "    cCapNew[g in NEW], vCAP[g] == vNEW_CAP[g]\n",
    "        \n",
    "# (8a) Total energy storage capacity for existing units\n",
    "    cCapEnergyOld[g in intersect(STOR, OLD)], \n",
    "        vE_CAP[g] == generators.Existing_Cap_MWh[g] - vRET_E_CAP[g]\n",
    "# (8b) Total energy storage capacity for existing units\n",
    "    cCapEnergyNew[g in intersect(STOR, NEW)], \n",
    "        vE_CAP[g] == vNEW_E_CAP[g]\n",
    "        \n",
    "# (9) Total transmission capacity\n",
    "    cTransCap[l in L], vT_CAP[l] == lines.Line_Max_Flow_MW[l] - vRET_T_CAP[l] + vNEW_T_CAP[l]\n",
    "end);"
   ]
  },
  {
   "cell_type": "code",
   "execution_count": 82,
   "metadata": {},
   "outputs": [],
   "source": [
    "# Because we are using time domain reduction via sample periods (days or weeks),\n",
    "# we must be careful with time coupling constraints at the start and end of each\n",
    "# sample period. \n",
    "\n",
    " # First we record a subset of time steps that begin a sub period \n",
    " # (these will be subject to 'wrapping' constraints that link the start/end of each period)\n",
    "STARTS = 1:hours_per_period:maximum(T)        \n",
    " # Then we record all time periods that do not begin a sub period \n",
    "# (these will be subject to normal time couping constraints, looking back one period)\n",
    "INTERIORS = setdiff(T,STARTS)\n",
    "\n",
    "# (10-12) Time coupling constraints\n",
    "@constraints(Expansion_Model, begin\n",
    "    # (10a) Ramp up constraints, normal\n",
    "    cRampUp[t in INTERIORS, g in G], \n",
    "        vGEN[t,g] - vGEN[t-1,g] <= generators.Ramp_Up_percentage[g]*vCAP[g]\n",
    "    # (10b) Ramp up constraints, sub-period wrapping\n",
    "    cRampUpWrap[t in STARTS, g in G], \n",
    "        vGEN[t,g] - vGEN[t+hours_per_period-1,g] <= generators.Ramp_Up_percentage[g]*vCAP[g]    \n",
    "    \n",
    "    # (11a) Ramp down, normal\n",
    "    cRampDown[t in INTERIORS, g in G], \n",
    "        vGEN[t-1,g] - vGEN[t,g] <= generators.Ramp_Dn_percentage[g]*vCAP[g] \n",
    "    # (11b) Ramp down, sub-period wrapping\n",
    "    cRampDownWrap[t in STARTS, g in G], \n",
    "        vGEN[t+hours_per_period-1,g] - vGEN[t,g] <= generators.Ramp_Dn_percentage[g]*vCAP[g]     \n",
    "   \n",
    "    # (12a) Storage state of charge, normal\n",
    "    cSOC[t in INTERIORS, g in STOR], \n",
    "        vSOC[t,g] == vSOC[t-1,g] + generators.Eff_up[g]*vCHARGE[t,g] - vGEN[t,g]/generators.Eff_down[g]\n",
    "    # (12a) Storage state of charge, wrapping\n",
    "    cSOCWrap[t in STARTS, g in STOR], \n",
    "        vSOC[t,g] == vSOC[t+hours_per_period-1,g] + generators.Eff_up[g]*vCHARGE[t,g] - vGEN[t,g]/generators.Eff_down[g]\n",
    "end);"
   ]
  },
  {
   "cell_type": "markdown",
   "metadata": {},
   "source": [
    "## OBJECTIVE FUNCTION"
   ]
  },
  {
   "cell_type": "code",
   "execution_count": 83,
   "metadata": {},
   "outputs": [],
   "source": [
    "# The objective function is to minimize the sum of fixed costs associated with\n",
    "# capacity decisions and variable costs associated with operational decisions\n",
    "\n",
    "# Create expressions for each sub-component of the total cost (for later retrieval)\n",
    "@expression(Expansion_Model, eFixedCostsGeneration,\n",
    "     # Fixed costs for total capacity \n",
    "    sum(generators.Fixed_OM_cost_per_MWyr[g]*vCAP[g] for g in G) +\n",
    "     # Investment cost for new capacity\n",
    "    sum(generators.Inv_cost_per_MWyr[g]*vNEW_CAP[g] for g in NEW)\n",
    ")\n",
    "@expression(Expansion_Model, eFixedCostsStorage,\n",
    "     # Fixed costs for total storage energy capacity \n",
    "    sum(generators.Fixed_OM_cost_per_MWhyr[g]*vE_CAP[g] for g in STOR) + \n",
    "     # Investment costs for new storage energy capacity\n",
    "    sum(generators.Inv_cost_per_MWhyr[g]*vNEW_E_CAP[g] for g in intersect(STOR, NEW))\n",
    ")\n",
    "@expression(Expansion_Model, eFixedCostsTransmission,\n",
    "     # Investment and fixed O&M costs for transmission lines\n",
    "    sum(lines.Line_Fixed_Cost_per_MW_yr[l]*vT_CAP[l] +\n",
    "        lines.Line_Reinforcement_Cost_per_MW_yr[l]*vNEW_T_CAP[l] for l in L)\n",
    ")\n",
    "#NOTE that since we are modeling representative time periods, \n",
    "# all operations-related costs have to be weighted by the hourly weight \n",
    "# (indicating how many hours in the full year the modeled hour represents)\n",
    "# in order to ensure operations-related costs estimate annual costs and\n",
    "# are appropriately equivalent to annualized investment/fixed costs.\n",
    "@expression(Expansion_Model, eVariableCosts,\n",
    "     # Variable costs for generation, weighted by hourly sample weight \n",
    "    sum(sample_weight[t]*generators.Var_Cost[g]*vGEN[t,g] for t in T, g in G)\n",
    ")\n",
    "@expression(Expansion_Model, eNSECosts,\n",
    "     # Non-served energy costs, weighted by hourly sample weight to ensure non-served energy costs estimate annual costs\n",
    "    sum(sample_weight[t]*nse.NSE_Cost[s]*vNSE[t,s,z] for t in T, s in S, z in Z)\n",
    ")\n",
    "  \n",
    "@objective(Expansion_Model, Min,\n",
    "    eFixedCostsGeneration + eFixedCostsStorage + eFixedCostsTransmission +\n",
    "    eVariableCosts + eNSECosts\n",
    ");"
   ]
  },
  {
   "cell_type": "markdown",
   "metadata": {},
   "source": [
    "### RUN MODEL"
   ]
  },
  {
   "cell_type": "code",
   "execution_count": 84,
   "metadata": {},
   "outputs": [
    {
     "name": "stdout",
     "output_type": "stream",
     "text": [
      "Running HiGHS 1.6.0: Copyright (c) 2023 HiGHS under MIT licence terms\n",
      "Presolving model\n",
      "37442 rows, 14141 cols, 110872 nonzeros\n",
      "37438 rows, 14141 cols, 110864 nonzeros\n",
      "Presolve : Reductions: rows 37438(-5339); columns 14141(-1815); elements 110864(-12532)\n",
      "Solving the presolved LP\n",
      "Using EKK dual simplex solver - serial\n",
      "  Iteration        Objective     Infeasibilities num(sum)\n",
      "          0     0.0000000000e+00 Pr: 482(3.17783e+06); Du: 0(1.92253e-10) 0s\n",
      "      13904     1.4196651126e+10 Pr: 0(0); Du: 0(2.29937e-11) 0s\n",
      "Solving the original LP from the solution after postsolve\n",
      "Model   status      : Optimal\n",
      "Simplex   iterations: 13904\n",
      "Objective value     :  1.4196651126e+10\n",
      "HiGHS run time      :          0.71\n",
      "  0.772741 seconds (459.58 k allocations: 38.791 MiB)\n"
     ]
    }
   ],
   "source": [
    "@time optimize!(Expansion_Model)"
   ]
  },
  {
   "cell_type": "markdown",
   "metadata": {},
   "source": [
    "## EXTRACT RESULTS"
   ]
  },
  {
   "cell_type": "code",
   "execution_count": 85,
   "metadata": {},
   "outputs": [],
   "source": [
    "# Record generation capacity and energy results\n",
    "generation = zeros(size(G,1))\n",
    "for i in 1:size(G,1)\n",
    "    # Note that total annual generation is sumproduct of sample period weights and hourly sample period generation \n",
    "    generation[i] = sum(sample_weight.*value.(vGEN)[:,G[i]].data) \n",
    "end\n",
    "\n",
    "# Total annual demand is sumproduct of sample period weights and hourly sample period demands\n",
    "total_demand = sum(sum.(eachcol(sample_weight.*demand)))\n",
    "# Maximum aggregate demand is the maximum of the sum of total concurrent demand in each hour\n",
    "peak_demand = maximum(sum(eachcol(demand)))\n",
    "MWh_share = generation./total_demand.*100\n",
    "cap_share = value.(vCAP).data./peak_demand.*100\n",
    "generator_results = DataFrame(\n",
    "    ID = G, \n",
    "    Resource = generators.Resource[G],\n",
    "    Zone = generators.zone[G],\n",
    "    Total_MW = value.(vCAP).data,\n",
    "    Start_MW = generators.Existing_Cap_MW[G],\n",
    "    Change_in_MW = value.(vCAP).data.-generators.Existing_Cap_MW[G],\n",
    "    Percent_MW = cap_share,\n",
    "    GWh = generation/1000,\n",
    "    Percent_GWh = MWh_share\n",
    ")\n",
    "\n",
    "# Record energy storage energy capacity results (MWh)\n",
    "storage_results = DataFrame(\n",
    "    ID = STOR, \n",
    "    Zone = generators.zone[STOR],\n",
    "    Resource = generators.Resource[STOR],\n",
    "    Total_Storage_MWh = value.(vE_CAP).data,\n",
    "    Start_Storage_MWh = generators.Existing_Cap_MWh[STOR],\n",
    "    Change_in_Storage_MWh = value.(vE_CAP).data.-generators.Existing_Cap_MWh[STOR],\n",
    ")\n",
    "\n",
    "\n",
    "# Record transmission capacity results\n",
    "transmission_results = DataFrame(\n",
    "    Line = L, \n",
    "    Total_Transfer_Capacity = value.(vT_CAP).data,\n",
    "    Start_Transfer_Capacity = lines.Line_Max_Flow_MW,\n",
    "    Change_in_Transfer_Capacity = value.(vT_CAP).data.-lines.Line_Max_Flow_MW,\n",
    ")\n",
    "\n",
    "\n",
    "## Record non-served energy results by segment and zone\n",
    "num_segments = maximum(S)\n",
    "num_zones = maximum(Z)\n",
    "nse_results = DataFrame(\n",
    "    Segment = zeros(num_segments*num_zones),\n",
    "    Zone = zeros(num_segments*num_zones),\n",
    "    NSE_Price = zeros(num_segments*num_zones),\n",
    "    Max_NSE_MW = zeros(num_segments*num_zones),\n",
    "    Total_NSE_MWh = zeros(num_segments*num_zones),\n",
    "    NSE_Percent_of_Demand = zeros(num_segments*num_zones)\n",
    ")\n",
    "i=1\n",
    "for s in S\n",
    "    for z in Z\n",
    "        nse_results.Segment[i]=s\n",
    "        nse_results.Zone[i]=z\n",
    "        nse_results.NSE_Price[i]=nse.NSE_Cost[s]\n",
    "        nse_results.Max_NSE_MW[i]=maximum(value.(vNSE)[:,s,z].data)\n",
    "        nse_results.Total_NSE_MWh[i]=sum(sample_weight.*value.(vNSE)[:,s,z].data)\n",
    "        nse_results.NSE_Percent_of_Demand[i]=sum(sample_weight.*value.(vNSE)[:,s,z].data)/total_demand*100\n",
    "        i=i+1\n",
    "    end\n",
    "end\n",
    "\n",
    "# Record costs by component (in million dollars)\n",
    " # Note: because each expression evaluates to a single value, \n",
    " # value.(JuMPObject) returns a numerical value, not a DenseAxisArray;\n",
    " # We thus do not need to use the .data extension here to extract numeric values\n",
    "cost_results = DataFrame(\n",
    "    Total_Costs = objective_value(Expansion_Model)/10^6,\n",
    "    Fixed_Costs_Generation = value.(eFixedCostsGeneration)/10^6,\n",
    "    Fixed_Costs_Storage = value.(eFixedCostsStorage)/10^6,\n",
    "    Fixed_Costs_Transmission = value.(eFixedCostsTransmission)/10^6,\n",
    "    Variable_Costs = value.(eVariableCosts)/10^6,\n",
    "    NSE_Costs = value.(eNSECosts)/10^6\n",
    ");"
   ]
  },
  {
   "cell_type": "markdown",
   "metadata": {},
   "source": [
    "## Write results to file"
   ]
  },
  {
   "cell_type": "code",
   "execution_count": 86,
   "metadata": {},
   "outputs": [],
   "source": [
    "# Output path\n",
    "outpath = \"results/CapacityExpansionExample\"\n",
    "\n",
    "# If output directory does not exist, create it\n",
    "if !(isdir(outpath))\n",
    "    mkpath(outpath)\n",
    "end\n",
    "\n",
    "CSV.write(joinpath(outpath, \"generator_results.csv\"), generator_results)\n",
    "CSV.write(joinpath(outpath, \"storage_results.csv\"), storage_results)\n",
    "CSV.write(joinpath(outpath, \"transmission_results.csv\"), transmission_results)\n",
    "CSV.write(joinpath(outpath, \"nse_results.csv\"), nse_results)\n",
    "CSV.write(joinpath(outpath, \"cost_results.csv\"), cost_results);"
   ]
  },
  {
   "cell_type": "code",
   "execution_count": null,
   "metadata": {},
   "outputs": [],
   "source": []
  }
 ],
 "metadata": {
  "@webio": {
   "lastCommId": null,
   "lastKernelId": null
  },
  "kernelspec": {
   "display_name": "Julia 1.9.3",
   "language": "julia",
   "name": "julia-1.9"
  },
  "language_info": {
   "file_extension": ".jl",
   "mimetype": "application/julia",
   "name": "julia",
   "version": "1.9.3"
  }
 },
 "nbformat": 4,
 "nbformat_minor": 4
}
